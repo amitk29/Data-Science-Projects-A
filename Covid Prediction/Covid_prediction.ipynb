{
 "cells": [
  {
   "cell_type": "markdown",
   "metadata": {},
   "source": [
    "# Dataset used: \n",
    "### https://www.kaggle.com/tanmoyx/covid19-patient-precondition-dataset?select=covid.csv"
   ]
  },
  {
   "cell_type": "code",
   "execution_count": 1,
   "metadata": {},
   "outputs": [],
   "source": [
    "import numpy as np\n",
    "import pandas as pd\n",
    "import matplotlib.pyplot as plt\n",
    "%matplotlib inline\n",
    "import tensorflow as tf\n",
    "from tensorflow import keras"
   ]
  },
  {
   "cell_type": "code",
   "execution_count": 2,
   "metadata": {},
   "outputs": [
    {
     "data": {
      "text/html": [
       "<div>\n",
       "<style scoped>\n",
       "    .dataframe tbody tr th:only-of-type {\n",
       "        vertical-align: middle;\n",
       "    }\n",
       "\n",
       "    .dataframe tbody tr th {\n",
       "        vertical-align: top;\n",
       "    }\n",
       "\n",
       "    .dataframe thead th {\n",
       "        text-align: right;\n",
       "    }\n",
       "</style>\n",
       "<table border=\"1\" class=\"dataframe\">\n",
       "  <thead>\n",
       "    <tr style=\"text-align: right;\">\n",
       "      <th></th>\n",
       "      <th>id</th>\n",
       "      <th>sex</th>\n",
       "      <th>patient_type</th>\n",
       "      <th>entry_date</th>\n",
       "      <th>date_symptoms</th>\n",
       "      <th>date_died</th>\n",
       "      <th>intubed</th>\n",
       "      <th>pneumonia</th>\n",
       "      <th>age</th>\n",
       "      <th>pregnancy</th>\n",
       "      <th>...</th>\n",
       "      <th>inmsupr</th>\n",
       "      <th>hypertension</th>\n",
       "      <th>other_disease</th>\n",
       "      <th>cardiovascular</th>\n",
       "      <th>obesity</th>\n",
       "      <th>renal_chronic</th>\n",
       "      <th>tobacco</th>\n",
       "      <th>contact_other_covid</th>\n",
       "      <th>covid_res</th>\n",
       "      <th>icu</th>\n",
       "    </tr>\n",
       "  </thead>\n",
       "  <tbody>\n",
       "    <tr>\n",
       "      <th>0</th>\n",
       "      <td>16169f</td>\n",
       "      <td>2</td>\n",
       "      <td>1</td>\n",
       "      <td>04-05-2020</td>\n",
       "      <td>02-05-2020</td>\n",
       "      <td>9999-99-99</td>\n",
       "      <td>97</td>\n",
       "      <td>2</td>\n",
       "      <td>27</td>\n",
       "      <td>97</td>\n",
       "      <td>...</td>\n",
       "      <td>2</td>\n",
       "      <td>2</td>\n",
       "      <td>2</td>\n",
       "      <td>2</td>\n",
       "      <td>2</td>\n",
       "      <td>2</td>\n",
       "      <td>2</td>\n",
       "      <td>2</td>\n",
       "      <td>1</td>\n",
       "      <td>97</td>\n",
       "    </tr>\n",
       "    <tr>\n",
       "      <th>1</th>\n",
       "      <td>1009bf</td>\n",
       "      <td>2</td>\n",
       "      <td>1</td>\n",
       "      <td>19-03-2020</td>\n",
       "      <td>17-03-2020</td>\n",
       "      <td>9999-99-99</td>\n",
       "      <td>97</td>\n",
       "      <td>2</td>\n",
       "      <td>24</td>\n",
       "      <td>97</td>\n",
       "      <td>...</td>\n",
       "      <td>2</td>\n",
       "      <td>2</td>\n",
       "      <td>2</td>\n",
       "      <td>2</td>\n",
       "      <td>2</td>\n",
       "      <td>2</td>\n",
       "      <td>2</td>\n",
       "      <td>99</td>\n",
       "      <td>1</td>\n",
       "      <td>97</td>\n",
       "    </tr>\n",
       "    <tr>\n",
       "      <th>2</th>\n",
       "      <td>167386</td>\n",
       "      <td>1</td>\n",
       "      <td>2</td>\n",
       "      <td>06-04-2020</td>\n",
       "      <td>01-04-2020</td>\n",
       "      <td>9999-99-99</td>\n",
       "      <td>2</td>\n",
       "      <td>2</td>\n",
       "      <td>54</td>\n",
       "      <td>2</td>\n",
       "      <td>...</td>\n",
       "      <td>2</td>\n",
       "      <td>2</td>\n",
       "      <td>2</td>\n",
       "      <td>2</td>\n",
       "      <td>1</td>\n",
       "      <td>2</td>\n",
       "      <td>2</td>\n",
       "      <td>99</td>\n",
       "      <td>1</td>\n",
       "      <td>2</td>\n",
       "    </tr>\n",
       "    <tr>\n",
       "      <th>3</th>\n",
       "      <td>0b5948</td>\n",
       "      <td>2</td>\n",
       "      <td>2</td>\n",
       "      <td>17-04-2020</td>\n",
       "      <td>10-04-2020</td>\n",
       "      <td>9999-99-99</td>\n",
       "      <td>2</td>\n",
       "      <td>1</td>\n",
       "      <td>30</td>\n",
       "      <td>97</td>\n",
       "      <td>...</td>\n",
       "      <td>2</td>\n",
       "      <td>2</td>\n",
       "      <td>2</td>\n",
       "      <td>2</td>\n",
       "      <td>2</td>\n",
       "      <td>2</td>\n",
       "      <td>2</td>\n",
       "      <td>99</td>\n",
       "      <td>1</td>\n",
       "      <td>2</td>\n",
       "    </tr>\n",
       "    <tr>\n",
       "      <th>4</th>\n",
       "      <td>0d01b5</td>\n",
       "      <td>1</td>\n",
       "      <td>2</td>\n",
       "      <td>13-04-2020</td>\n",
       "      <td>13-04-2020</td>\n",
       "      <td>22-04-2020</td>\n",
       "      <td>2</td>\n",
       "      <td>2</td>\n",
       "      <td>60</td>\n",
       "      <td>2</td>\n",
       "      <td>...</td>\n",
       "      <td>2</td>\n",
       "      <td>1</td>\n",
       "      <td>2</td>\n",
       "      <td>1</td>\n",
       "      <td>2</td>\n",
       "      <td>2</td>\n",
       "      <td>2</td>\n",
       "      <td>99</td>\n",
       "      <td>1</td>\n",
       "      <td>2</td>\n",
       "    </tr>\n",
       "  </tbody>\n",
       "</table>\n",
       "<p>5 rows × 23 columns</p>\n",
       "</div>"
      ],
      "text/plain": [
       "       id  sex  patient_type  entry_date date_symptoms   date_died  intubed  \\\n",
       "0  16169f    2             1  04-05-2020    02-05-2020  9999-99-99       97   \n",
       "1  1009bf    2             1  19-03-2020    17-03-2020  9999-99-99       97   \n",
       "2  167386    1             2  06-04-2020    01-04-2020  9999-99-99        2   \n",
       "3  0b5948    2             2  17-04-2020    10-04-2020  9999-99-99        2   \n",
       "4  0d01b5    1             2  13-04-2020    13-04-2020  22-04-2020        2   \n",
       "\n",
       "   pneumonia  age  pregnancy  ...  inmsupr  hypertension  other_disease  \\\n",
       "0          2   27         97  ...        2             2              2   \n",
       "1          2   24         97  ...        2             2              2   \n",
       "2          2   54          2  ...        2             2              2   \n",
       "3          1   30         97  ...        2             2              2   \n",
       "4          2   60          2  ...        2             1              2   \n",
       "\n",
       "   cardiovascular  obesity  renal_chronic  tobacco  contact_other_covid  \\\n",
       "0               2        2              2        2                    2   \n",
       "1               2        2              2        2                   99   \n",
       "2               2        1              2        2                   99   \n",
       "3               2        2              2        2                   99   \n",
       "4               1        2              2        2                   99   \n",
       "\n",
       "   covid_res  icu  \n",
       "0          1   97  \n",
       "1          1   97  \n",
       "2          1    2  \n",
       "3          1    2  \n",
       "4          1    2  \n",
       "\n",
       "[5 rows x 23 columns]"
      ]
     },
     "execution_count": 2,
     "metadata": {},
     "output_type": "execute_result"
    }
   ],
   "source": [
    "df=pd.read_csv('covid.csv')\n",
    "df.head()"
   ]
  },
  {
   "cell_type": "markdown",
   "metadata": {},
   "source": [
    "## Data Representation\n",
    "#### sex: Male-2,Female-1 ,\n",
    "#### patient Type: Outpatient:1, Inpatient :2 \n",
    "#### intubed: Yes:1, No:2, Missing: 97,98,99\n",
    "#### pneumonia: Yes:1, No:2, Missing: 97,98,99\n",
    "#### pregnancy: Yes:1, No:2 , Missing: 97,98,99\n",
    "#### date died: Missing: 9999:99:99\n",
    "#### covid_res : Results_awaiting: 3"
   ]
  },
  {
   "cell_type": "code",
   "execution_count": 3,
   "metadata": {},
   "outputs": [
    {
     "data": {
      "text/plain": [
       "Index(['id', 'sex', 'patient_type', 'entry_date', 'date_symptoms', 'date_died',\n",
       "       'intubed', 'pneumonia', 'age', 'pregnancy', 'diabetes', 'copd',\n",
       "       'asthma', 'inmsupr', 'hypertension', 'other_disease', 'cardiovascular',\n",
       "       'obesity', 'renal_chronic', 'tobacco', 'contact_other_covid',\n",
       "       'covid_res', 'icu'],\n",
       "      dtype='object')"
      ]
     },
     "execution_count": 3,
     "metadata": {},
     "output_type": "execute_result"
    }
   ],
   "source": [
    "df.columns"
   ]
  },
  {
   "cell_type": "code",
   "execution_count": 4,
   "metadata": {},
   "outputs": [
    {
     "name": "stdout",
     "output_type": "stream",
     "text": [
      "<class 'pandas.core.frame.DataFrame'>\n",
      "RangeIndex: 566602 entries, 0 to 566601\n",
      "Data columns (total 23 columns):\n",
      " #   Column               Non-Null Count   Dtype \n",
      "---  ------               --------------   ----- \n",
      " 0   id                   566602 non-null  object\n",
      " 1   sex                  566602 non-null  int64 \n",
      " 2   patient_type         566602 non-null  int64 \n",
      " 3   entry_date           566602 non-null  object\n",
      " 4   date_symptoms        566602 non-null  object\n",
      " 5   date_died            566602 non-null  object\n",
      " 6   intubed              566602 non-null  int64 \n",
      " 7   pneumonia            566602 non-null  int64 \n",
      " 8   age                  566602 non-null  int64 \n",
      " 9   pregnancy            566602 non-null  int64 \n",
      " 10  diabetes             566602 non-null  int64 \n",
      " 11  copd                 566602 non-null  int64 \n",
      " 12  asthma               566602 non-null  int64 \n",
      " 13  inmsupr              566602 non-null  int64 \n",
      " 14  hypertension         566602 non-null  int64 \n",
      " 15  other_disease        566602 non-null  int64 \n",
      " 16  cardiovascular       566602 non-null  int64 \n",
      " 17  obesity              566602 non-null  int64 \n",
      " 18  renal_chronic        566602 non-null  int64 \n",
      " 19  tobacco              566602 non-null  int64 \n",
      " 20  contact_other_covid  566602 non-null  int64 \n",
      " 21  covid_res            566602 non-null  int64 \n",
      " 22  icu                  566602 non-null  int64 \n",
      "dtypes: int64(19), object(4)\n",
      "memory usage: 99.4+ MB\n"
     ]
    }
   ],
   "source": [
    "df.info()"
   ]
  },
  {
   "cell_type": "code",
   "execution_count": 5,
   "metadata": {},
   "outputs": [
    {
     "data": {
      "text/plain": [
       "Index(['sex', 'patient_type', 'intubed', 'pneumonia', 'age', 'pregnancy',\n",
       "       'diabetes', 'copd', 'asthma', 'inmsupr', 'hypertension',\n",
       "       'other_disease', 'cardiovascular', 'obesity', 'renal_chronic',\n",
       "       'tobacco', 'contact_other_covid', 'covid_res'],\n",
       "      dtype='object')"
      ]
     },
     "execution_count": 5,
     "metadata": {},
     "output_type": "execute_result"
    }
   ],
   "source": [
    "df.drop(['id','entry_date', 'date_symptoms', 'date_died','icu'],axis='columns',inplace=True)\n",
    "df.columns"
   ]
  },
  {
   "cell_type": "code",
   "execution_count": 6,
   "metadata": {},
   "outputs": [
    {
     "data": {
      "text/plain": [
       "sex                      2\n",
       "patient_type             2\n",
       "intubed                  4\n",
       "pneumonia                3\n",
       "age                    120\n",
       "pregnancy                4\n",
       "diabetes                 3\n",
       "copd                     3\n",
       "asthma                   3\n",
       "inmsupr                  3\n",
       "hypertension             3\n",
       "other_disease            3\n",
       "cardiovascular           3\n",
       "obesity                  3\n",
       "renal_chronic            3\n",
       "tobacco                  3\n",
       "contact_other_covid      3\n",
       "covid_res                3\n",
       "dtype: int64"
      ]
     },
     "execution_count": 6,
     "metadata": {},
     "output_type": "execute_result"
    }
   ],
   "source": [
    "df.nunique()"
   ]
  },
  {
   "cell_type": "code",
   "execution_count": 7,
   "metadata": {},
   "outputs": [],
   "source": [
    "for item in df.columns:\n",
    "    if item!='age':\n",
    "        df[item].replace(to_replace=2,value=0,inplace=True)"
   ]
  },
  {
   "cell_type": "code",
   "execution_count": 8,
   "metadata": {},
   "outputs": [
    {
     "data": {
      "text/plain": [
       "array([1, 0, 3], dtype=int64)"
      ]
     },
     "execution_count": 8,
     "metadata": {},
     "output_type": "execute_result"
    }
   ],
   "source": [
    "df['covid_res'].unique()"
   ]
  },
  {
   "cell_type": "code",
   "execution_count": 9,
   "metadata": {},
   "outputs": [
    {
     "data": {
      "text/plain": [
       "array([ 1.,  0., nan])"
      ]
     },
     "execution_count": 9,
     "metadata": {},
     "output_type": "execute_result"
    }
   ],
   "source": [
    "df['covid_res'].replace({3:np.nan},inplace=True)\n",
    "df['covid_res'].unique()"
   ]
  },
  {
   "cell_type": "code",
   "execution_count": 10,
   "metadata": {},
   "outputs": [
    {
     "data": {
      "text/plain": [
       "(566602, 18)"
      ]
     },
     "execution_count": 10,
     "metadata": {},
     "output_type": "execute_result"
    }
   ],
   "source": [
    "df.shape"
   ]
  },
  {
   "cell_type": "code",
   "execution_count": 11,
   "metadata": {},
   "outputs": [],
   "source": [
    "df.dropna(inplace=True)"
   ]
  },
  {
   "cell_type": "code",
   "execution_count": 12,
   "metadata": {},
   "outputs": [
    {
     "data": {
      "text/plain": [
       "(499692, 18)"
      ]
     },
     "execution_count": 12,
     "metadata": {},
     "output_type": "execute_result"
    }
   ],
   "source": [
    "df.shape"
   ]
  },
  {
   "cell_type": "code",
   "execution_count": 13,
   "metadata": {},
   "outputs": [
    {
     "data": {
      "text/plain": [
       "Index(['sex', 'patient_type', 'intubed', 'pneumonia', 'age', 'pregnancy',\n",
       "       'diabetes', 'copd', 'asthma', 'inmsupr', 'hypertension',\n",
       "       'other_disease', 'cardiovascular', 'obesity', 'renal_chronic',\n",
       "       'tobacco', 'contact_other_covid', 'covid_res'],\n",
       "      dtype='object')"
      ]
     },
     "execution_count": 13,
     "metadata": {},
     "output_type": "execute_result"
    }
   ],
   "source": [
    "df.columns"
   ]
  },
  {
   "cell_type": "code",
   "execution_count": 14,
   "metadata": {},
   "outputs": [
    {
     "data": {
      "text/plain": [
       "sex                      2\n",
       "patient_type             2\n",
       "intubed                  4\n",
       "pneumonia                3\n",
       "age                    120\n",
       "pregnancy                4\n",
       "diabetes                 3\n",
       "copd                     3\n",
       "asthma                   3\n",
       "inmsupr                  3\n",
       "hypertension             3\n",
       "other_disease            3\n",
       "cardiovascular           3\n",
       "obesity                  3\n",
       "renal_chronic            3\n",
       "tobacco                  3\n",
       "contact_other_covid      3\n",
       "covid_res                2\n",
       "dtype: int64"
      ]
     },
     "execution_count": 14,
     "metadata": {},
     "output_type": "execute_result"
    }
   ],
   "source": [
    "df.nunique()"
   ]
  },
  {
   "cell_type": "code",
   "execution_count": 15,
   "metadata": {},
   "outputs": [
    {
     "data": {
      "text/plain": [
       "['sex',\n",
       " 'patient_type',\n",
       " 'intubed',\n",
       " 'pneumonia',\n",
       " 'age',\n",
       " 'pregnancy',\n",
       " 'diabetes',\n",
       " 'copd',\n",
       " 'asthma',\n",
       " 'inmsupr',\n",
       " 'hypertension',\n",
       " 'other_disease',\n",
       " 'cardiovascular',\n",
       " 'obesity',\n",
       " 'renal_chronic',\n",
       " 'tobacco',\n",
       " 'contact_other_covid',\n",
       " 'covid_res']"
      ]
     },
     "execution_count": 15,
     "metadata": {},
     "output_type": "execute_result"
    }
   ],
   "source": [
    "cat=list(df.columns)\n",
    "cat"
   ]
  },
  {
   "cell_type": "code",
   "execution_count": 16,
   "metadata": {},
   "outputs": [
    {
     "data": {
      "text/plain": [
       "['sex', 'patient_type', 'age', 'covid_res']"
      ]
     },
     "execution_count": 16,
     "metadata": {},
     "output_type": "execute_result"
    }
   ],
   "source": [
    "catg=['sex','patient_type','age','covid_res']\n",
    "catg"
   ]
  },
  {
   "cell_type": "code",
   "execution_count": 17,
   "metadata": {},
   "outputs": [
    {
     "data": {
      "text/plain": [
       "['intubed',\n",
       " 'pneumonia',\n",
       " 'pregnancy',\n",
       " 'diabetes',\n",
       " 'copd',\n",
       " 'asthma',\n",
       " 'inmsupr',\n",
       " 'hypertension',\n",
       " 'other_disease',\n",
       " 'cardiovascular',\n",
       " 'obesity',\n",
       " 'renal_chronic',\n",
       " 'tobacco',\n",
       " 'contact_other_covid']"
      ]
     },
     "execution_count": 17,
     "metadata": {},
     "output_type": "execute_result"
    }
   ],
   "source": [
    "for item in catg:\n",
    "    cat.remove(item)\n",
    "cat"
   ]
  },
  {
   "cell_type": "code",
   "execution_count": 18,
   "metadata": {},
   "outputs": [],
   "source": [
    "for item in cat:\n",
    "    df[item].replace({97:np.nan,98:np.nan,99:np.nan},inplace=True)    "
   ]
  },
  {
   "cell_type": "code",
   "execution_count": 19,
   "metadata": {},
   "outputs": [
    {
     "data": {
      "text/plain": [
       "array([nan,  0.,  1.])"
      ]
     },
     "execution_count": 19,
     "metadata": {},
     "output_type": "execute_result"
    }
   ],
   "source": [
    "df['pregnancy'].unique()"
   ]
  },
  {
   "cell_type": "code",
   "execution_count": 20,
   "metadata": {},
   "outputs": [],
   "source": [
    "df1=df.dropna()"
   ]
  },
  {
   "cell_type": "code",
   "execution_count": 21,
   "metadata": {},
   "outputs": [
    {
     "data": {
      "text/plain": [
       "(20352, 18)"
      ]
     },
     "execution_count": 21,
     "metadata": {},
     "output_type": "execute_result"
    }
   ],
   "source": [
    "df1.shape"
   ]
  },
  {
   "cell_type": "markdown",
   "metadata": {},
   "source": [
    "# we cannot drop so many datas"
   ]
  },
  {
   "cell_type": "code",
   "execution_count": 22,
   "metadata": {},
   "outputs": [
    {
     "name": "stdout",
     "output_type": "stream",
     "text": [
      "<class 'pandas.core.frame.DataFrame'>\n",
      "Int64Index: 499692 entries, 0 to 499691\n",
      "Data columns (total 18 columns):\n",
      " #   Column               Non-Null Count   Dtype  \n",
      "---  ------               --------------   -----  \n",
      " 0   sex                  499692 non-null  int64  \n",
      " 1   patient_type         499692 non-null  int64  \n",
      " 2   intubed              107424 non-null  float64\n",
      " 3   pneumonia            499681 non-null  float64\n",
      " 4   age                  499692 non-null  int64  \n",
      " 5   pregnancy            245258 non-null  float64\n",
      " 6   diabetes             498051 non-null  float64\n",
      " 7   copd                 498246 non-null  float64\n",
      " 8   asthma               498250 non-null  float64\n",
      " 9   inmsupr              498030 non-null  float64\n",
      " 10  hypertension         498203 non-null  float64\n",
      " 11  other_disease        497499 non-null  float64\n",
      " 12  cardiovascular       498183 non-null  float64\n",
      " 13  obesity              498222 non-null  float64\n",
      " 14  renal_chronic        498216 non-null  float64\n",
      " 15  tobacco              498113 non-null  float64\n",
      " 16  contact_other_covid  346017 non-null  float64\n",
      " 17  covid_res            499692 non-null  float64\n",
      "dtypes: float64(15), int64(3)\n",
      "memory usage: 72.4 MB\n"
     ]
    }
   ],
   "source": [
    "df.info()"
   ]
  },
  {
   "cell_type": "code",
   "execution_count": 23,
   "metadata": {},
   "outputs": [
    {
     "data": {
      "text/plain": [
       "254434"
      ]
     },
     "execution_count": 23,
     "metadata": {},
     "output_type": "execute_result"
    }
   ],
   "source": [
    "df['pregnancy'].isnull().sum()"
   ]
  },
  {
   "cell_type": "markdown",
   "metadata": {},
   "source": [
    "### so many data of pregnancy is missing"
   ]
  },
  {
   "cell_type": "code",
   "execution_count": 24,
   "metadata": {},
   "outputs": [
    {
     "data": {
      "text/plain": [
       "0.0    241644\n",
       "1.0      3614\n",
       "Name: pregnancy, dtype: int64"
      ]
     },
     "execution_count": 24,
     "metadata": {},
     "output_type": "execute_result"
    }
   ],
   "source": [
    "df['pregnancy'].value_counts() "
   ]
  },
  {
   "cell_type": "code",
   "execution_count": 25,
   "metadata": {},
   "outputs": [
    {
     "data": {
      "text/plain": [
       "1    3614\n",
       "Name: sex, dtype: int64"
      ]
     },
     "execution_count": 25,
     "metadata": {},
     "output_type": "execute_result"
    }
   ],
   "source": [
    "df[df['pregnancy']==1]['sex'].value_counts()"
   ]
  },
  {
   "cell_type": "code",
   "execution_count": 26,
   "metadata": {},
   "outputs": [
    {
     "name": "stdout",
     "output_type": "stream",
     "text": [
      "Male:  253098\n"
     ]
    }
   ],
   "source": [
    "print('Male: ',df[df['sex']==0].shape[0])"
   ]
  },
  {
   "cell_type": "code",
   "execution_count": 27,
   "metadata": {},
   "outputs": [
    {
     "name": "stdout",
     "output_type": "stream",
     "text": [
      "Female:  246594\n"
     ]
    }
   ],
   "source": [
    "print('Female: ',df[df['sex']==1].shape[0])"
   ]
  },
  {
   "cell_type": "markdown",
   "metadata": {},
   "source": [
    "#### replacing Nan of 'pregnancy' with 0"
   ]
  },
  {
   "cell_type": "code",
   "execution_count": 28,
   "metadata": {},
   "outputs": [
    {
     "data": {
      "text/plain": [
       "0.0    496078\n",
       "1.0      3614\n",
       "Name: pregnancy, dtype: int64"
      ]
     },
     "execution_count": 28,
     "metadata": {},
     "output_type": "execute_result"
    }
   ],
   "source": [
    "df['pregnancy'].replace(np.nan,0,inplace=True)\n",
    "df['pregnancy'].value_counts() "
   ]
  },
  {
   "cell_type": "markdown",
   "metadata": {},
   "source": [
    "## Working on Other datas"
   ]
  },
  {
   "cell_type": "code",
   "execution_count": 29,
   "metadata": {},
   "outputs": [
    {
     "name": "stdout",
     "output_type": "stream",
     "text": [
      "<class 'pandas.core.frame.DataFrame'>\n",
      "Int64Index: 499692 entries, 0 to 499691\n",
      "Data columns (total 18 columns):\n",
      " #   Column               Non-Null Count   Dtype  \n",
      "---  ------               --------------   -----  \n",
      " 0   sex                  499692 non-null  int64  \n",
      " 1   patient_type         499692 non-null  int64  \n",
      " 2   intubed              107424 non-null  float64\n",
      " 3   pneumonia            499681 non-null  float64\n",
      " 4   age                  499692 non-null  int64  \n",
      " 5   pregnancy            499692 non-null  float64\n",
      " 6   diabetes             498051 non-null  float64\n",
      " 7   copd                 498246 non-null  float64\n",
      " 8   asthma               498250 non-null  float64\n",
      " 9   inmsupr              498030 non-null  float64\n",
      " 10  hypertension         498203 non-null  float64\n",
      " 11  other_disease        497499 non-null  float64\n",
      " 12  cardiovascular       498183 non-null  float64\n",
      " 13  obesity              498222 non-null  float64\n",
      " 14  renal_chronic        498216 non-null  float64\n",
      " 15  tobacco              498113 non-null  float64\n",
      " 16  contact_other_covid  346017 non-null  float64\n",
      " 17  covid_res            499692 non-null  float64\n",
      "dtypes: float64(15), int64(3)\n",
      "memory usage: 72.4 MB\n"
     ]
    }
   ],
   "source": [
    "df.info()"
   ]
  },
  {
   "cell_type": "code",
   "execution_count": 30,
   "metadata": {},
   "outputs": [
    {
     "data": {
      "text/plain": [
       "['intubed',\n",
       " 'pneumonia',\n",
       " 'pregnancy',\n",
       " 'diabetes',\n",
       " 'copd',\n",
       " 'asthma',\n",
       " 'inmsupr',\n",
       " 'hypertension',\n",
       " 'other_disease',\n",
       " 'cardiovascular',\n",
       " 'obesity',\n",
       " 'renal_chronic',\n",
       " 'tobacco',\n",
       " 'contact_other_covid',\n",
       " 'sex']"
      ]
     },
     "execution_count": 30,
     "metadata": {},
     "output_type": "execute_result"
    }
   ],
   "source": [
    "cat.append('sex')\n",
    "cat"
   ]
  },
  {
   "cell_type": "code",
   "execution_count": 31,
   "metadata": {},
   "outputs": [
    {
     "data": {
      "text/plain": [
       "Index(['intubed', 'pneumonia', 'pregnancy', 'diabetes', 'copd', 'asthma',\n",
       "       'inmsupr', 'hypertension', 'other_disease', 'cardiovascular', 'obesity',\n",
       "       'renal_chronic', 'tobacco', 'contact_other_covid', 'sex'],\n",
       "      dtype='object')"
      ]
     },
     "execution_count": 31,
     "metadata": {},
     "output_type": "execute_result"
    }
   ],
   "source": [
    "df1=df[cat].copy()\n",
    "df1.columns"
   ]
  },
  {
   "cell_type": "code",
   "execution_count": 32,
   "metadata": {},
   "outputs": [
    {
     "data": {
      "text/plain": [
       "(51778, 15)"
      ]
     },
     "execution_count": 32,
     "metadata": {},
     "output_type": "execute_result"
    }
   ],
   "source": [
    "df1.dropna(inplace=True)\n",
    "df1.shape"
   ]
  },
  {
   "cell_type": "code",
   "execution_count": 33,
   "metadata": {},
   "outputs": [
    {
     "name": "stdout",
     "output_type": "stream",
     "text": [
      "                      intubed  pneumonia  pregnancy  diabetes      copd  \\\n",
      "intubed              1.000000   0.194081  -0.026157  0.043465  0.007706   \n",
      "pneumonia            0.194081   1.000000  -0.075611  0.107441  0.022011   \n",
      "pregnancy           -0.026157  -0.075611   1.000000 -0.050586 -0.018368   \n",
      "diabetes             0.043465   0.107441  -0.050586  1.000000  0.064132   \n",
      "copd                 0.007706   0.022011  -0.018368  0.064132  1.000000   \n",
      "asthma              -0.016051  -0.023724   0.010378  0.001212  0.051728   \n",
      "inmsupr              0.002094  -0.026346  -0.013699 -0.012915  0.030415   \n",
      "hypertension         0.038270   0.095325  -0.053666  0.349956  0.099772   \n",
      "other_disease        0.022146  -0.020056   0.013523 -0.012005  0.034418   \n",
      "cardiovascular       0.018455   0.014809  -0.016549  0.086847  0.112005   \n",
      "obesity              0.040568   0.081634  -0.018035  0.086989  0.022275   \n",
      "renal_chronic        0.023464   0.022211  -0.018386  0.159087  0.047536   \n",
      "tobacco              0.006361   0.021577  -0.022022  0.025349  0.123861   \n",
      "contact_other_covid -0.030513  -0.066670  -0.024796 -0.059377 -0.036217   \n",
      "sex                 -0.048250  -0.076918   0.122952  0.026156  0.030384   \n",
      "\n",
      "                       asthma   inmsupr  hypertension  other_disease  \\\n",
      "intubed             -0.016051  0.002094      0.038270       0.022146   \n",
      "pneumonia           -0.023724 -0.026346      0.095325      -0.020056   \n",
      "pregnancy            0.010378 -0.013699     -0.053666       0.013523   \n",
      "diabetes             0.001212 -0.012915      0.349956      -0.012005   \n",
      "copd                 0.051728  0.030415      0.099772       0.034418   \n",
      "asthma               1.000000  0.026711      0.012860       0.009159   \n",
      "inmsupr              0.026711  1.000000     -0.007952       0.191405   \n",
      "hypertension         0.012860 -0.007952      1.000000       0.018780   \n",
      "other_disease        0.009159  0.191405      0.018780       1.000000   \n",
      "cardiovascular       0.015601  0.052736      0.174425       0.092332   \n",
      "obesity              0.042429 -0.013016      0.139064       0.008721   \n",
      "renal_chronic       -0.002536  0.081820      0.183027       0.056138   \n",
      "tobacco              0.010620  0.010165      0.025608       0.027860   \n",
      "contact_other_covid  0.003432 -0.024248     -0.041329      -0.022222   \n",
      "sex                  0.045356  0.027216      0.055668       0.030348   \n",
      "\n",
      "                     cardiovascular   obesity  renal_chronic   tobacco  \\\n",
      "intubed                    0.018455  0.040568       0.023464  0.006361   \n",
      "pneumonia                  0.014809  0.081634       0.022211  0.021577   \n",
      "pregnancy                 -0.016549 -0.018035      -0.018386 -0.022022   \n",
      "diabetes                   0.086847  0.086989       0.159087  0.025349   \n",
      "copd                       0.112005  0.022275       0.047536  0.123861   \n",
      "asthma                     0.015601  0.042429      -0.002536  0.010620   \n",
      "inmsupr                    0.052736 -0.013016       0.081820  0.010165   \n",
      "hypertension               0.174425  0.139064       0.183027  0.025608   \n",
      "other_disease              0.092332  0.008721       0.056138  0.027860   \n",
      "cardiovascular             1.000000  0.055254       0.117054  0.047994   \n",
      "obesity                    0.055254  1.000000       0.003891  0.058278   \n",
      "renal_chronic              0.117054  0.003891       1.000000  0.028691   \n",
      "tobacco                    0.047994  0.058278       0.028691  1.000000   \n",
      "contact_other_covid       -0.018514  0.044364      -0.043084 -0.006843   \n",
      "sex                        0.017379  0.037909       0.006388 -0.123869   \n",
      "\n",
      "                     contact_other_covid       sex  \n",
      "intubed                        -0.030513 -0.048250  \n",
      "pneumonia                      -0.066670 -0.076918  \n",
      "pregnancy                      -0.024796  0.122952  \n",
      "diabetes                       -0.059377  0.026156  \n",
      "copd                           -0.036217  0.030384  \n",
      "asthma                          0.003432  0.045356  \n",
      "inmsupr                        -0.024248  0.027216  \n",
      "hypertension                   -0.041329  0.055668  \n",
      "other_disease                  -0.022222  0.030348  \n",
      "cardiovascular                 -0.018514  0.017379  \n",
      "obesity                         0.044364  0.037909  \n",
      "renal_chronic                  -0.043084  0.006388  \n",
      "tobacco                        -0.006843 -0.123869  \n",
      "contact_other_covid             1.000000  0.028707  \n",
      "sex                             0.028707  1.000000  \n"
     ]
    }
   ],
   "source": [
    "import seaborn as sns\n",
    "corrm=df1.corr()\n",
    "print(corrm)"
   ]
  },
  {
   "cell_type": "code",
   "execution_count": 34,
   "metadata": {},
   "outputs": [
    {
     "data": {
      "text/plain": [
       "<matplotlib.axes._subplots.AxesSubplot at 0x2a18296adc0>"
      ]
     },
     "execution_count": 34,
     "metadata": {},
     "output_type": "execute_result"
    },
    {
     "data": {
      "image/png": "[encoded data removed]",
      "text/plain": [
       "<Figure size 1080x720 with 2 Axes>"
      ]
     },
     "metadata": {
      "needs_background": "light"
     },
     "output_type": "display_data"
    }
   ],
   "source": [
    "plt.figure(figsize=(15, 10))\n",
    "sns.heatmap(corrm,annot=True)"
   ]
  },
  {
   "cell_type": "markdown",
   "metadata": {},
   "source": [
    "### Conclusion: hypertension and diabetes are very much correlated "
   ]
  },
  {
   "cell_type": "code",
   "execution_count": 35,
   "metadata": {},
   "outputs": [
    {
     "name": "stdout",
     "output_type": "stream",
     "text": [
      "<class 'pandas.core.frame.DataFrame'>\n",
      "Int64Index: 499692 entries, 0 to 499691\n",
      "Data columns (total 18 columns):\n",
      " #   Column               Non-Null Count   Dtype  \n",
      "---  ------               --------------   -----  \n",
      " 0   sex                  499692 non-null  int64  \n",
      " 1   patient_type         499692 non-null  int64  \n",
      " 2   intubed              107424 non-null  float64\n",
      " 3   pneumonia            499681 non-null  float64\n",
      " 4   age                  499692 non-null  int64  \n",
      " 5   pregnancy            499692 non-null  float64\n",
      " 6   diabetes             498051 non-null  float64\n",
      " 7   copd                 498246 non-null  float64\n",
      " 8   asthma               498250 non-null  float64\n",
      " 9   inmsupr              498030 non-null  float64\n",
      " 10  hypertension         498203 non-null  float64\n",
      " 11  other_disease        497499 non-null  float64\n",
      " 12  cardiovascular       498183 non-null  float64\n",
      " 13  obesity              498222 non-null  float64\n",
      " 14  renal_chronic        498216 non-null  float64\n",
      " 15  tobacco              498113 non-null  float64\n",
      " 16  contact_other_covid  346017 non-null  float64\n",
      " 17  covid_res            499692 non-null  float64\n",
      "dtypes: float64(15), int64(3)\n",
      "memory usage: 72.4 MB\n"
     ]
    }
   ],
   "source": [
    "df.info()"
   ]
  },
  {
   "cell_type": "code",
   "execution_count": 36,
   "metadata": {},
   "outputs": [
    {
     "data": {
      "text/plain": [
       "0.0    98321\n",
       "1.0     9103\n",
       "Name: intubed, dtype: int64"
      ]
     },
     "execution_count": 36,
     "metadata": {},
     "output_type": "execute_result"
    }
   ],
   "source": [
    "df['intubed'].value_counts()"
   ]
  },
  {
   "cell_type": "code",
   "execution_count": 37,
   "metadata": {},
   "outputs": [],
   "source": [
    "df['intubed'].fillna(method='ffill',inplace=True)"
   ]
  },
  {
   "cell_type": "code",
   "execution_count": 38,
   "metadata": {},
   "outputs": [],
   "source": [
    "df['intubed'].fillna(method='bfill',inplace=True)"
   ]
  },
  {
   "cell_type": "code",
   "execution_count": 39,
   "metadata": {},
   "outputs": [
    {
     "data": {
      "text/plain": [
       "0.0    458276\n",
       "1.0     41416\n",
       "Name: intubed, dtype: int64"
      ]
     },
     "execution_count": 39,
     "metadata": {},
     "output_type": "execute_result"
    }
   ],
   "source": [
    "df['intubed'].value_counts()"
   ]
  },
  {
   "cell_type": "markdown",
   "metadata": {},
   "source": [
    "### Data has become more satisfactory"
   ]
  },
  {
   "cell_type": "code",
   "execution_count": 40,
   "metadata": {},
   "outputs": [
    {
     "name": "stdout",
     "output_type": "stream",
     "text": [
      "<class 'pandas.core.frame.DataFrame'>\n",
      "Int64Index: 499692 entries, 0 to 499691\n",
      "Data columns (total 18 columns):\n",
      " #   Column               Non-Null Count   Dtype  \n",
      "---  ------               --------------   -----  \n",
      " 0   sex                  499692 non-null  int64  \n",
      " 1   patient_type         499692 non-null  int64  \n",
      " 2   intubed              499692 non-null  float64\n",
      " 3   pneumonia            499681 non-null  float64\n",
      " 4   age                  499692 non-null  int64  \n",
      " 5   pregnancy            499692 non-null  float64\n",
      " 6   diabetes             498051 non-null  float64\n",
      " 7   copd                 498246 non-null  float64\n",
      " 8   asthma               498250 non-null  float64\n",
      " 9   inmsupr              498030 non-null  float64\n",
      " 10  hypertension         498203 non-null  float64\n",
      " 11  other_disease        497499 non-null  float64\n",
      " 12  cardiovascular       498183 non-null  float64\n",
      " 13  obesity              498222 non-null  float64\n",
      " 14  renal_chronic        498216 non-null  float64\n",
      " 15  tobacco              498113 non-null  float64\n",
      " 16  contact_other_covid  346017 non-null  float64\n",
      " 17  covid_res            499692 non-null  float64\n",
      "dtypes: float64(15), int64(3)\n",
      "memory usage: 72.4 MB\n"
     ]
    }
   ],
   "source": [
    "df.info()"
   ]
  },
  {
   "cell_type": "code",
   "execution_count": 41,
   "metadata": {},
   "outputs": [
    {
     "data": {
      "text/plain": [
       "array([0., 1.])"
      ]
     },
     "execution_count": 41,
     "metadata": {},
     "output_type": "execute_result"
    }
   ],
   "source": [
    "df['intubed'].unique()"
   ]
  },
  {
   "cell_type": "code",
   "execution_count": 42,
   "metadata": {},
   "outputs": [
    {
     "data": {
      "text/plain": [
       "0.0    420965\n",
       "1.0     78716\n",
       "Name: pneumonia, dtype: int64"
      ]
     },
     "execution_count": 42,
     "metadata": {},
     "output_type": "execute_result"
    }
   ],
   "source": [
    "df['pneumonia'].value_counts()"
   ]
  },
  {
   "cell_type": "code",
   "execution_count": 43,
   "metadata": {},
   "outputs": [],
   "source": [
    "df['pneumonia'].fillna(method='bfill',inplace=True)"
   ]
  },
  {
   "cell_type": "code",
   "execution_count": 44,
   "metadata": {},
   "outputs": [
    {
     "data": {
      "text/plain": [
       "0.0    420975\n",
       "1.0     78717\n",
       "Name: pneumonia, dtype: int64"
      ]
     },
     "execution_count": 44,
     "metadata": {},
     "output_type": "execute_result"
    }
   ],
   "source": [
    "df['pneumonia'].value_counts()"
   ]
  },
  {
   "cell_type": "code",
   "execution_count": 45,
   "metadata": {},
   "outputs": [
    {
     "name": "stdout",
     "output_type": "stream",
     "text": [
      "<class 'pandas.core.frame.DataFrame'>\n",
      "Int64Index: 499692 entries, 0 to 499691\n",
      "Data columns (total 18 columns):\n",
      " #   Column               Non-Null Count   Dtype  \n",
      "---  ------               --------------   -----  \n",
      " 0   sex                  499692 non-null  int64  \n",
      " 1   patient_type         499692 non-null  int64  \n",
      " 2   intubed              499692 non-null  float64\n",
      " 3   pneumonia            499692 non-null  float64\n",
      " 4   age                  499692 non-null  int64  \n",
      " 5   pregnancy            499692 non-null  float64\n",
      " 6   diabetes             498051 non-null  float64\n",
      " 7   copd                 498246 non-null  float64\n",
      " 8   asthma               498250 non-null  float64\n",
      " 9   inmsupr              498030 non-null  float64\n",
      " 10  hypertension         498203 non-null  float64\n",
      " 11  other_disease        497499 non-null  float64\n",
      " 12  cardiovascular       498183 non-null  float64\n",
      " 13  obesity              498222 non-null  float64\n",
      " 14  renal_chronic        498216 non-null  float64\n",
      " 15  tobacco              498113 non-null  float64\n",
      " 16  contact_other_covid  346017 non-null  float64\n",
      " 17  covid_res            499692 non-null  float64\n",
      "dtypes: float64(15), int64(3)\n",
      "memory usage: 72.4 MB\n"
     ]
    }
   ],
   "source": [
    "df.info()"
   ]
  },
  {
   "cell_type": "markdown",
   "metadata": {},
   "source": [
    "### Similarly can be done till tobacco"
   ]
  },
  {
   "cell_type": "code",
   "execution_count": 46,
   "metadata": {},
   "outputs": [],
   "source": [
    "classes=['diabetes','copd','asthma','inmsupr','hypertension','other_disease','cardiovascular','obesity','renal_chronic','tobacco']"
   ]
  },
  {
   "cell_type": "code",
   "execution_count": 47,
   "metadata": {},
   "outputs": [],
   "source": [
    "for item in classes:\n",
    "    df[item].fillna(method='bfill',inplace=True)"
   ]
  },
  {
   "cell_type": "code",
   "execution_count": 48,
   "metadata": {},
   "outputs": [
    {
     "name": "stdout",
     "output_type": "stream",
     "text": [
      "<class 'pandas.core.frame.DataFrame'>\n",
      "Int64Index: 499692 entries, 0 to 499691\n",
      "Data columns (total 18 columns):\n",
      " #   Column               Non-Null Count   Dtype  \n",
      "---  ------               --------------   -----  \n",
      " 0   sex                  499692 non-null  int64  \n",
      " 1   patient_type         499692 non-null  int64  \n",
      " 2   intubed              499692 non-null  float64\n",
      " 3   pneumonia            499692 non-null  float64\n",
      " 4   age                  499692 non-null  int64  \n",
      " 5   pregnancy            499692 non-null  float64\n",
      " 6   diabetes             499692 non-null  float64\n",
      " 7   copd                 499692 non-null  float64\n",
      " 8   asthma               499692 non-null  float64\n",
      " 9   inmsupr              499692 non-null  float64\n",
      " 10  hypertension         499692 non-null  float64\n",
      " 11  other_disease        499692 non-null  float64\n",
      " 12  cardiovascular       499692 non-null  float64\n",
      " 13  obesity              499692 non-null  float64\n",
      " 14  renal_chronic        499692 non-null  float64\n",
      " 15  tobacco              499692 non-null  float64\n",
      " 16  contact_other_covid  346017 non-null  float64\n",
      " 17  covid_res            499692 non-null  float64\n",
      "dtypes: float64(15), int64(3)\n",
      "memory usage: 72.4 MB\n"
     ]
    }
   ],
   "source": [
    "df.info()"
   ]
  },
  {
   "cell_type": "code",
   "execution_count": 49,
   "metadata": {},
   "outputs": [
    {
     "data": {
      "text/plain": [
       "1.0    196966\n",
       "0.0    149051\n",
       "Name: contact_other_covid, dtype: int64"
      ]
     },
     "execution_count": 49,
     "metadata": {},
     "output_type": "execute_result"
    }
   ],
   "source": [
    "df['contact_other_covid'].value_counts()"
   ]
  },
  {
   "cell_type": "code",
   "execution_count": 50,
   "metadata": {},
   "outputs": [],
   "source": [
    "df['contact_other_covid'].fillna(method='ffill',inplace=True)"
   ]
  },
  {
   "cell_type": "code",
   "execution_count": 51,
   "metadata": {},
   "outputs": [
    {
     "name": "stdout",
     "output_type": "stream",
     "text": [
      "<class 'pandas.core.frame.DataFrame'>\n",
      "Int64Index: 499692 entries, 0 to 499691\n",
      "Data columns (total 18 columns):\n",
      " #   Column               Non-Null Count   Dtype  \n",
      "---  ------               --------------   -----  \n",
      " 0   sex                  499692 non-null  int64  \n",
      " 1   patient_type         499692 non-null  int64  \n",
      " 2   intubed              499692 non-null  float64\n",
      " 3   pneumonia            499692 non-null  float64\n",
      " 4   age                  499692 non-null  int64  \n",
      " 5   pregnancy            499692 non-null  float64\n",
      " 6   diabetes             499692 non-null  float64\n",
      " 7   copd                 499692 non-null  float64\n",
      " 8   asthma               499692 non-null  float64\n",
      " 9   inmsupr              499692 non-null  float64\n",
      " 10  hypertension         499692 non-null  float64\n",
      " 11  other_disease        499692 non-null  float64\n",
      " 12  cardiovascular       499692 non-null  float64\n",
      " 13  obesity              499692 non-null  float64\n",
      " 14  renal_chronic        499692 non-null  float64\n",
      " 15  tobacco              499692 non-null  float64\n",
      " 16  contact_other_covid  499692 non-null  float64\n",
      " 17  covid_res            499692 non-null  float64\n",
      "dtypes: float64(15), int64(3)\n",
      "memory usage: 72.4 MB\n"
     ]
    }
   ],
   "source": [
    "df.info()"
   ]
  },
  {
   "cell_type": "markdown",
   "metadata": {},
   "source": [
    "## we have succesfully done preprocessing of data"
   ]
  },
  {
   "cell_type": "code",
   "execution_count": 52,
   "metadata": {},
   "outputs": [
    {
     "data": {
      "text/html": [
       "<div>\n",
       "<style scoped>\n",
       "    .dataframe tbody tr th:only-of-type {\n",
       "        vertical-align: middle;\n",
       "    }\n",
       "\n",
       "    .dataframe tbody tr th {\n",
       "        vertical-align: top;\n",
       "    }\n",
       "\n",
       "    .dataframe thead th {\n",
       "        text-align: right;\n",
       "    }\n",
       "</style>\n",
       "<table border=\"1\" class=\"dataframe\">\n",
       "  <thead>\n",
       "    <tr style=\"text-align: right;\">\n",
       "      <th></th>\n",
       "      <th>0</th>\n",
       "      <th>1</th>\n",
       "      <th>2</th>\n",
       "      <th>3</th>\n",
       "      <th>4</th>\n",
       "      <th>5</th>\n",
       "      <th>6</th>\n",
       "      <th>7</th>\n",
       "      <th>8</th>\n",
       "      <th>9</th>\n",
       "      <th>...</th>\n",
       "      <th>110</th>\n",
       "      <th>111</th>\n",
       "      <th>113</th>\n",
       "      <th>114</th>\n",
       "      <th>115</th>\n",
       "      <th>116</th>\n",
       "      <th>117</th>\n",
       "      <th>118</th>\n",
       "      <th>119</th>\n",
       "      <th>120</th>\n",
       "    </tr>\n",
       "  </thead>\n",
       "  <tbody>\n",
       "    <tr>\n",
       "      <th>0</th>\n",
       "      <td>0</td>\n",
       "      <td>0</td>\n",
       "      <td>0</td>\n",
       "      <td>0</td>\n",
       "      <td>0</td>\n",
       "      <td>0</td>\n",
       "      <td>0</td>\n",
       "      <td>0</td>\n",
       "      <td>0</td>\n",
       "      <td>0</td>\n",
       "      <td>...</td>\n",
       "      <td>0</td>\n",
       "      <td>0</td>\n",
       "      <td>0</td>\n",
       "      <td>0</td>\n",
       "      <td>0</td>\n",
       "      <td>0</td>\n",
       "      <td>0</td>\n",
       "      <td>0</td>\n",
       "      <td>0</td>\n",
       "      <td>0</td>\n",
       "    </tr>\n",
       "    <tr>\n",
       "      <th>1</th>\n",
       "      <td>0</td>\n",
       "      <td>0</td>\n",
       "      <td>0</td>\n",
       "      <td>0</td>\n",
       "      <td>0</td>\n",
       "      <td>0</td>\n",
       "      <td>0</td>\n",
       "      <td>0</td>\n",
       "      <td>0</td>\n",
       "      <td>0</td>\n",
       "      <td>...</td>\n",
       "      <td>0</td>\n",
       "      <td>0</td>\n",
       "      <td>0</td>\n",
       "      <td>0</td>\n",
       "      <td>0</td>\n",
       "      <td>0</td>\n",
       "      <td>0</td>\n",
       "      <td>0</td>\n",
       "      <td>0</td>\n",
       "      <td>0</td>\n",
       "    </tr>\n",
       "    <tr>\n",
       "      <th>2</th>\n",
       "      <td>0</td>\n",
       "      <td>0</td>\n",
       "      <td>0</td>\n",
       "      <td>0</td>\n",
       "      <td>0</td>\n",
       "      <td>0</td>\n",
       "      <td>0</td>\n",
       "      <td>0</td>\n",
       "      <td>0</td>\n",
       "      <td>0</td>\n",
       "      <td>...</td>\n",
       "      <td>0</td>\n",
       "      <td>0</td>\n",
       "      <td>0</td>\n",
       "      <td>0</td>\n",
       "      <td>0</td>\n",
       "      <td>0</td>\n",
       "      <td>0</td>\n",
       "      <td>0</td>\n",
       "      <td>0</td>\n",
       "      <td>0</td>\n",
       "    </tr>\n",
       "    <tr>\n",
       "      <th>3</th>\n",
       "      <td>0</td>\n",
       "      <td>0</td>\n",
       "      <td>0</td>\n",
       "      <td>0</td>\n",
       "      <td>0</td>\n",
       "      <td>0</td>\n",
       "      <td>0</td>\n",
       "      <td>0</td>\n",
       "      <td>0</td>\n",
       "      <td>0</td>\n",
       "      <td>...</td>\n",
       "      <td>0</td>\n",
       "      <td>0</td>\n",
       "      <td>0</td>\n",
       "      <td>0</td>\n",
       "      <td>0</td>\n",
       "      <td>0</td>\n",
       "      <td>0</td>\n",
       "      <td>0</td>\n",
       "      <td>0</td>\n",
       "      <td>0</td>\n",
       "    </tr>\n",
       "    <tr>\n",
       "      <th>4</th>\n",
       "      <td>0</td>\n",
       "      <td>0</td>\n",
       "      <td>0</td>\n",
       "      <td>0</td>\n",
       "      <td>0</td>\n",
       "      <td>0</td>\n",
       "      <td>0</td>\n",
       "      <td>0</td>\n",
       "      <td>0</td>\n",
       "      <td>0</td>\n",
       "      <td>...</td>\n",
       "      <td>0</td>\n",
       "      <td>0</td>\n",
       "      <td>0</td>\n",
       "      <td>0</td>\n",
       "      <td>0</td>\n",
       "      <td>0</td>\n",
       "      <td>0</td>\n",
       "      <td>0</td>\n",
       "      <td>0</td>\n",
       "      <td>0</td>\n",
       "    </tr>\n",
       "    <tr>\n",
       "      <th>...</th>\n",
       "      <td>...</td>\n",
       "      <td>...</td>\n",
       "      <td>...</td>\n",
       "      <td>...</td>\n",
       "      <td>...</td>\n",
       "      <td>...</td>\n",
       "      <td>...</td>\n",
       "      <td>...</td>\n",
       "      <td>...</td>\n",
       "      <td>...</td>\n",
       "      <td>...</td>\n",
       "      <td>...</td>\n",
       "      <td>...</td>\n",
       "      <td>...</td>\n",
       "      <td>...</td>\n",
       "      <td>...</td>\n",
       "      <td>...</td>\n",
       "      <td>...</td>\n",
       "      <td>...</td>\n",
       "      <td>...</td>\n",
       "      <td>...</td>\n",
       "    </tr>\n",
       "    <tr>\n",
       "      <th>499687</th>\n",
       "      <td>0</td>\n",
       "      <td>0</td>\n",
       "      <td>0</td>\n",
       "      <td>0</td>\n",
       "      <td>0</td>\n",
       "      <td>0</td>\n",
       "      <td>0</td>\n",
       "      <td>0</td>\n",
       "      <td>0</td>\n",
       "      <td>0</td>\n",
       "      <td>...</td>\n",
       "      <td>0</td>\n",
       "      <td>0</td>\n",
       "      <td>0</td>\n",
       "      <td>0</td>\n",
       "      <td>0</td>\n",
       "      <td>0</td>\n",
       "      <td>0</td>\n",
       "      <td>0</td>\n",
       "      <td>0</td>\n",
       "      <td>0</td>\n",
       "    </tr>\n",
       "    <tr>\n",
       "      <th>499688</th>\n",
       "      <td>0</td>\n",
       "      <td>0</td>\n",
       "      <td>0</td>\n",
       "      <td>0</td>\n",
       "      <td>0</td>\n",
       "      <td>0</td>\n",
       "      <td>0</td>\n",
       "      <td>0</td>\n",
       "      <td>0</td>\n",
       "      <td>0</td>\n",
       "      <td>...</td>\n",
       "      <td>0</td>\n",
       "      <td>0</td>\n",
       "      <td>0</td>\n",
       "      <td>0</td>\n",
       "      <td>0</td>\n",
       "      <td>0</td>\n",
       "      <td>0</td>\n",
       "      <td>0</td>\n",
       "      <td>0</td>\n",
       "      <td>0</td>\n",
       "    </tr>\n",
       "    <tr>\n",
       "      <th>499689</th>\n",
       "      <td>0</td>\n",
       "      <td>0</td>\n",
       "      <td>0</td>\n",
       "      <td>0</td>\n",
       "      <td>0</td>\n",
       "      <td>0</td>\n",
       "      <td>0</td>\n",
       "      <td>0</td>\n",
       "      <td>0</td>\n",
       "      <td>0</td>\n",
       "      <td>...</td>\n",
       "      <td>0</td>\n",
       "      <td>0</td>\n",
       "      <td>0</td>\n",
       "      <td>0</td>\n",
       "      <td>0</td>\n",
       "      <td>0</td>\n",
       "      <td>0</td>\n",
       "      <td>0</td>\n",
       "      <td>0</td>\n",
       "      <td>0</td>\n",
       "    </tr>\n",
       "    <tr>\n",
       "      <th>499690</th>\n",
       "      <td>0</td>\n",
       "      <td>0</td>\n",
       "      <td>0</td>\n",
       "      <td>0</td>\n",
       "      <td>0</td>\n",
       "      <td>0</td>\n",
       "      <td>0</td>\n",
       "      <td>0</td>\n",
       "      <td>0</td>\n",
       "      <td>0</td>\n",
       "      <td>...</td>\n",
       "      <td>0</td>\n",
       "      <td>0</td>\n",
       "      <td>0</td>\n",
       "      <td>0</td>\n",
       "      <td>0</td>\n",
       "      <td>0</td>\n",
       "      <td>0</td>\n",
       "      <td>0</td>\n",
       "      <td>0</td>\n",
       "      <td>0</td>\n",
       "    </tr>\n",
       "    <tr>\n",
       "      <th>499691</th>\n",
       "      <td>0</td>\n",
       "      <td>0</td>\n",
       "      <td>0</td>\n",
       "      <td>0</td>\n",
       "      <td>0</td>\n",
       "      <td>0</td>\n",
       "      <td>0</td>\n",
       "      <td>0</td>\n",
       "      <td>0</td>\n",
       "      <td>0</td>\n",
       "      <td>...</td>\n",
       "      <td>0</td>\n",
       "      <td>0</td>\n",
       "      <td>0</td>\n",
       "      <td>0</td>\n",
       "      <td>0</td>\n",
       "      <td>0</td>\n",
       "      <td>0</td>\n",
       "      <td>0</td>\n",
       "      <td>0</td>\n",
       "      <td>0</td>\n",
       "    </tr>\n",
       "  </tbody>\n",
       "</table>\n",
       "<p>499692 rows × 120 columns</p>\n",
       "</div>"
      ],
      "text/plain": [
       "        0    1    2    3    4    5    6    7    8    9    ...  110  111  113  \\\n",
       "0         0    0    0    0    0    0    0    0    0    0  ...    0    0    0   \n",
       "1         0    0    0    0    0    0    0    0    0    0  ...    0    0    0   \n",
       "2         0    0    0    0    0    0    0    0    0    0  ...    0    0    0   \n",
       "3         0    0    0    0    0    0    0    0    0    0  ...    0    0    0   \n",
       "4         0    0    0    0    0    0    0    0    0    0  ...    0    0    0   \n",
       "...     ...  ...  ...  ...  ...  ...  ...  ...  ...  ...  ...  ...  ...  ...   \n",
       "499687    0    0    0    0    0    0    0    0    0    0  ...    0    0    0   \n",
       "499688    0    0    0    0    0    0    0    0    0    0  ...    0    0    0   \n",
       "499689    0    0    0    0    0    0    0    0    0    0  ...    0    0    0   \n",
       "499690    0    0    0    0    0    0    0    0    0    0  ...    0    0    0   \n",
       "499691    0    0    0    0    0    0    0    0    0    0  ...    0    0    0   \n",
       "\n",
       "        114  115  116  117  118  119  120  \n",
       "0         0    0    0    0    0    0    0  \n",
       "1         0    0    0    0    0    0    0  \n",
       "2         0    0    0    0    0    0    0  \n",
       "3         0    0    0    0    0    0    0  \n",
       "4         0    0    0    0    0    0    0  \n",
       "...     ...  ...  ...  ...  ...  ...  ...  \n",
       "499687    0    0    0    0    0    0    0  \n",
       "499688    0    0    0    0    0    0    0  \n",
       "499689    0    0    0    0    0    0    0  \n",
       "499690    0    0    0    0    0    0    0  \n",
       "499691    0    0    0    0    0    0    0  \n",
       "\n",
       "[499692 rows x 120 columns]"
      ]
     },
     "execution_count": 52,
     "metadata": {},
     "output_type": "execute_result"
    }
   ],
   "source": [
    "age_onehot=pd.get_dummies(df['age'])\n",
    "age_onehot"
   ]
  },
  {
   "cell_type": "code",
   "execution_count": 53,
   "metadata": {},
   "outputs": [
    {
     "data": {
      "text/plain": [
       "Index(['sex', 'patient_type', 'intubed', 'pneumonia', 'pregnancy', 'diabetes',\n",
       "       'copd', 'asthma', 'inmsupr', 'hypertension', 'other_disease',\n",
       "       'cardiovascular', 'obesity', 'renal_chronic', 'tobacco',\n",
       "       'contact_other_covid', 'covid_res'],\n",
       "      dtype='object')"
      ]
     },
     "execution_count": 53,
     "metadata": {},
     "output_type": "execute_result"
    }
   ],
   "source": [
    "df.drop('age',axis='columns',inplace=True)\n",
    "df.columns"
   ]
  },
  {
   "cell_type": "code",
   "execution_count": 54,
   "metadata": {},
   "outputs": [
    {
     "data": {
      "text/plain": [
       "Index([         'sex', 'patient_type',      'intubed',    'pneumonia',\n",
       "          'pregnancy',     'diabetes',         'copd',       'asthma',\n",
       "            'inmsupr', 'hypertension',\n",
       "       ...\n",
       "                  110,            111,            113,            114,\n",
       "                  115,            116,            117,            118,\n",
       "                  119,            120],\n",
       "      dtype='object', length=137)"
      ]
     },
     "execution_count": 54,
     "metadata": {},
     "output_type": "execute_result"
    }
   ],
   "source": [
    "df=pd.concat([df,age_onehot],axis=1)\n",
    "df.columns"
   ]
  },
  {
   "cell_type": "code",
   "execution_count": 55,
   "metadata": {},
   "outputs": [
    {
     "data": {
      "text/plain": [
       "sex             False\n",
       "patient_type    False\n",
       "intubed         False\n",
       "pneumonia       False\n",
       "pregnancy       False\n",
       "                ...  \n",
       "116             False\n",
       "117             False\n",
       "118             False\n",
       "119             False\n",
       "120             False\n",
       "Length: 137, dtype: bool"
      ]
     },
     "execution_count": 55,
     "metadata": {},
     "output_type": "execute_result"
    }
   ],
   "source": [
    "df.isnull().any()"
   ]
  },
  {
   "cell_type": "markdown",
   "metadata": {},
   "source": [
    "## Pre-processing Completed"
   ]
  },
  {
   "cell_type": "code",
   "execution_count": 56,
   "metadata": {},
   "outputs": [
    {
     "data": {
      "text/plain": [
       "(499692, 137)"
      ]
     },
     "execution_count": 56,
     "metadata": {},
     "output_type": "execute_result"
    }
   ],
   "source": [
    "df.shape"
   ]
  },
  {
   "cell_type": "code",
   "execution_count": 57,
   "metadata": {},
   "outputs": [],
   "source": [
    "X=df.drop(['covid_res'], axis='columns')\n",
    "Y=df['covid_res']"
   ]
  },
  {
   "cell_type": "code",
   "execution_count": 58,
   "metadata": {},
   "outputs": [
    {
     "data": {
      "text/plain": [
       "((499692, 136), (499692,))"
      ]
     },
     "execution_count": 58,
     "metadata": {},
     "output_type": "execute_result"
    }
   ],
   "source": [
    "X.shape,Y.shape"
   ]
  },
  {
   "cell_type": "code",
   "execution_count": 59,
   "metadata": {},
   "outputs": [
    {
     "data": {
      "text/plain": [
       "0    1.0\n",
       "1    1.0\n",
       "2    1.0\n",
       "3    1.0\n",
       "4    1.0\n",
       "Name: covid_res, dtype: float64"
      ]
     },
     "execution_count": 59,
     "metadata": {},
     "output_type": "execute_result"
    }
   ],
   "source": [
    "Y[:5]"
   ]
  },
  {
   "cell_type": "code",
   "execution_count": 60,
   "metadata": {},
   "outputs": [
    {
     "data": {
      "text/plain": [
       "0.0    279035\n",
       "1.0    220657\n",
       "Name: covid_res, dtype: int64"
      ]
     },
     "execution_count": 60,
     "metadata": {},
     "output_type": "execute_result"
    }
   ],
   "source": [
    "Y.value_counts()"
   ]
  },
  {
   "cell_type": "code",
   "execution_count": 61,
   "metadata": {},
   "outputs": [],
   "source": [
    "from sklearn.model_selection import train_test_split\n",
    "X_train,X_test,Y_train,Y_test=train_test_split(X,Y,test_size=(0.1),random_state=1)"
   ]
  },
  {
   "cell_type": "code",
   "execution_count": 62,
   "metadata": {},
   "outputs": [
    {
     "data": {
      "text/plain": [
       "(136,)"
      ]
     },
     "execution_count": 62,
     "metadata": {},
     "output_type": "execute_result"
    }
   ],
   "source": [
    "X.columns.shape"
   ]
  },
  {
   "cell_type": "markdown",
   "metadata": {},
   "source": [
    "## Model Selection DNN"
   ]
  },
  {
   "cell_type": "code",
   "execution_count": 63,
   "metadata": {},
   "outputs": [],
   "source": [
    "model=keras.Sequential([\n",
    "    keras.layers.Dense(128,input_shape=(136,),activation='relu'),\n",
    "    #keras.layers.Dropout(0.25),\n",
    "    keras.layers.Dense(128,activation='relu'),\n",
    "    #keras.layers.Dropout(0.25),\n",
    "    #keras.layers.Dense(128,activation='relu'),\n",
    "    #keras.layers.Dropout(0.25),\n",
    "    #keras.layers.Dense(128,activation='relu'),\n",
    "    #keras.layers.Dropout(0.25),\n",
    "    #keras.layers.Dense(128,activation='relu'),\n",
    "    #keras.layers.Dropout(0.25),\n",
    "    #keras.layers.Dense(128,activation='relu'),\n",
    "    #keras.layers.Dropout(0.25),\n",
    "    #keras.layers.Dense(64,activation='relu'),\n",
    "    #keras.layers.Dropout(0.25),\n",
    "    #keras.layers.Dense(64,activation='relu'),\n",
    "    #keras.layers.Dropout(0.25),\n",
    "    keras.layers.Dense(64,activation='relu'),\n",
    "    #keras.layers.Dropout(0.25), \n",
    "    keras.layers.Dense(64,activation='relu'),\n",
    "    #keras.layers.Dropout(0.25),\n",
    "    keras.layers.Dense(32,activation='relu'),\n",
    "    #keras.layers.Dropout(0.25),\n",
    "    #keras.layers.Dense(32,activation='relu'),\n",
    "    #keras.layers.Dropout(0.25),\n",
    "    #keras.layers.Dense(32,activation='relu'),\n",
    "    #keras.layers.Dropout(0.25),\n",
    "    #keras.layers.Dense(16,activation='relu'),\n",
    "    #keras.layers.Dropout(0.25),\n",
    "    keras.layers.Dense(16,activation='relu'),\n",
    "    #keras.layers.Dropout(0.25),\n",
    "    keras.layers.Dense(1,activation='sigmoid')\n",
    "])"
   ]
  },
  {
   "cell_type": "code",
   "execution_count": 64,
   "metadata": {},
   "outputs": [],
   "source": [
    "model.compile(optimizer='adam',loss='binary_crossentropy',metrics=['accuracy'])"
   ]
  },
  {
   "cell_type": "code",
   "execution_count": 65,
   "metadata": {},
   "outputs": [],
   "source": [
    "from tensorflow.keras.callbacks import ModelCheckpoint,EarlyStopping\n",
    "from livelossplot.inputs.tf_keras import PlotLossesCallback"
   ]
  },
  {
   "cell_type": "code",
   "execution_count": 66,
   "metadata": {},
   "outputs": [],
   "source": [
    "early_stopping=EarlyStopping(monitor='val_accuracy',patience=2,verbose=0,mode='max',restore_best_weights=False)\n",
    "callbacks=[PlotLossesCallback(),early_stopping]"
   ]
  },
  {
   "cell_type": "code",
   "execution_count": 67,
   "metadata": {},
   "outputs": [
    {
     "data": {
      "image/png": "[encoded data removed]",
      "text/plain": [
       "<Figure size 864x576 with 2 Axes>"
      ]
     },
     "metadata": {
      "needs_background": "light"
     },
     "output_type": "display_data"
    },
    {
     "name": "stdout",
     "output_type": "stream",
     "text": [
      "accuracy\n",
      "\ttraining         \t (min:    0.633, max:    0.636, cur:    0.636)\n",
      "\tvalidation       \t (min:    0.635, max:    0.637, cur:    0.637)\n",
      "Loss\n",
      "\ttraining         \t (min:    0.644, max:    0.646, cur:    0.644)\n",
      "\tvalidation       \t (min:    0.645, max:    0.646, cur:    0.646)\n",
      "\b\b\b\b\b\b\b\b\b\b\b\b\b\b\b\b\b\b\b\b\b\b\b\b\b\b\b\b\b\b\b\b\b\b\b\b\b\b\b\b\b\b\b\b\b\b\b\b\b\b\b\b\b\b\b\b\b\b\b\b\b\b\b\b\b\b\b\b\b\b\b\b\b\b\b\b\b\b\b\b\b\b\b\b\b\b\b\b\r",
      "12649/12649 [==============================] - 31s 2ms/step - loss: 0.6436 - accuracy: 0.6358 - val_loss: 0.6455 - val_accuracy: 0.6366\n"
     ]
    },
    {
     "data": {
      "text/plain": [
       "<tensorflow.python.keras.callbacks.History at 0x2a183e5eee0>"
      ]
     },
     "execution_count": 67,
     "metadata": {},
     "output_type": "execute_result"
    }
   ],
   "source": [
    "model.fit(X_train,Y_train,validation_split=0.1,epochs=2,verbose=1,callbacks=callbacks)"
   ]
  },
  {
   "cell_type": "code",
   "execution_count": 68,
   "metadata": {},
   "outputs": [
    {
     "name": "stdout",
     "output_type": "stream",
     "text": [
      "1562/1562 [==============================] - 2s 1ms/step - loss: 0.6422 - accuracy: 0.6397\n"
     ]
    },
    {
     "data": {
      "text/plain": [
       "[0.6421638131141663, 0.6397438645362854]"
      ]
     },
     "execution_count": 68,
     "metadata": {},
     "output_type": "execute_result"
    }
   ],
   "source": [
    "model.evaluate(X_test,Y_test)"
   ]
  },
  {
   "cell_type": "code",
   "execution_count": 69,
   "metadata": {},
   "outputs": [],
   "source": [
    "Yp_s=model.predict(X_train)"
   ]
  },
  {
   "cell_type": "code",
   "execution_count": 70,
   "metadata": {},
   "outputs": [
    {
     "data": {
      "text/plain": [
       "array([[0.7752825 ],\n",
       "       [0.36789897],\n",
       "       [0.41400522],\n",
       "       [0.35055554],\n",
       "       [0.5360783 ]], dtype=float32)"
      ]
     },
     "execution_count": 70,
     "metadata": {},
     "output_type": "execute_result"
    }
   ],
   "source": [
    "Yp_s[:5]"
   ]
  },
  {
   "cell_type": "code",
   "execution_count": 71,
   "metadata": {},
   "outputs": [],
   "source": [
    "yp_s=[]\n",
    "for i in Yp_s:\n",
    "    if(i>=0.5):\n",
    "        yp_s.append(1)\n",
    "    else:\n",
    "        yp_s.append(0)"
   ]
  },
  {
   "cell_type": "code",
   "execution_count": 72,
   "metadata": {},
   "outputs": [
    {
     "name": "stdout",
     "output_type": "stream",
     "text": [
      "              precision    recall  f1-score   support\n",
      "\n",
      "         0.0       0.63      0.85      0.72    251122\n",
      "         1.0       0.66      0.37      0.47    198600\n",
      "\n",
      "    accuracy                           0.64    449722\n",
      "   macro avg       0.64      0.61      0.60    449722\n",
      "weighted avg       0.64      0.64      0.61    449722\n",
      "\n"
     ]
    }
   ],
   "source": [
    "from sklearn.metrics import confusion_matrix , classification_report\n",
    "\n",
    "print(classification_report(Y_train,yp_s))"
   ]
  },
  {
   "cell_type": "code",
   "execution_count": null,
   "metadata": {},
   "outputs": [],
   "source": []
  }
 ],
 "metadata": {
  "kernelspec": {
   "display_name": "Python 3",
   "language": "python",
   "name": "python3"
  },
  "language_info": {
   "codemirror_mode": {
    "name": "ipython",
    "version": 3
   },
   "file_extension": ".py",
   "mimetype": "text/x-python",
   "name": "python",
   "nbconvert_exporter": "python",
   "pygments_lexer": "ipython3",
   "version": "3.8.2"
  }
 },
 "nbformat": 4,
 "nbformat_minor": 4
}
