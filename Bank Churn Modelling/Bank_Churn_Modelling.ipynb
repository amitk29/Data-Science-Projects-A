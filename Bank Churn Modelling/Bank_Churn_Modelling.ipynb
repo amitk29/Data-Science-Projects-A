{
 "cells": [
  {
   "cell_type": "markdown",
   "metadata": {},
   "source": [
    "# Problem Statement:\n",
    "\n",
    " ### Dataset for bank customer churn prediction : https://www.kaggle.com/barelydedicated/bank-customer-churn-modeling\n",
    "\n",
    "#### 1) Build a deep learning model to predict churn rate at bank. \n",
    "\n",
    "#### 2) Once model is built, print classification report and analyze precision, recall and f1-score"
   ]
  },
  {
   "cell_type": "markdown",
   "metadata": {},
   "source": [
    "-> Importing Various modules for use in project"
   ]
  },
  {
   "cell_type": "code",
   "execution_count": 1,
   "metadata": {},
   "outputs": [],
   "source": [
    "import numpy as np\n",
    "import pandas as pd\n",
    "import matplotlib.pyplot as plt\n",
    "import tensorflow as tf\n",
    "from tensorflow import keras\n",
    "%matplotlib inline"
   ]
  },
  {
   "cell_type": "markdown",
   "metadata": {},
   "source": [
    "-> Reading the file from local directory and printing samples"
   ]
  },
  {
   "cell_type": "code",
   "execution_count": 2,
   "metadata": {},
   "outputs": [
    {
     "data": {
      "text/html": [
       "<div>\n",
       "<style scoped>\n",
       "    .dataframe tbody tr th:only-of-type {\n",
       "        vertical-align: middle;\n",
       "    }\n",
       "\n",
       "    .dataframe tbody tr th {\n",
       "        vertical-align: top;\n",
       "    }\n",
       "\n",
       "    .dataframe thead th {\n",
       "        text-align: right;\n",
       "    }\n",
       "</style>\n",
       "<table border=\"1\" class=\"dataframe\">\n",
       "  <thead>\n",
       "    <tr style=\"text-align: right;\">\n",
       "      <th></th>\n",
       "      <th>RowNumber</th>\n",
       "      <th>CustomerId</th>\n",
       "      <th>Surname</th>\n",
       "      <th>CreditScore</th>\n",
       "      <th>Geography</th>\n",
       "      <th>Gender</th>\n",
       "      <th>Age</th>\n",
       "      <th>Tenure</th>\n",
       "      <th>Balance</th>\n",
       "      <th>NumOfProducts</th>\n",
       "      <th>HasCrCard</th>\n",
       "      <th>IsActiveMember</th>\n",
       "      <th>EstimatedSalary</th>\n",
       "      <th>Exited</th>\n",
       "    </tr>\n",
       "  </thead>\n",
       "  <tbody>\n",
       "    <tr>\n",
       "      <th>2228</th>\n",
       "      <td>2229</td>\n",
       "      <td>15610594</td>\n",
       "      <td>Moss</td>\n",
       "      <td>644</td>\n",
       "      <td>France</td>\n",
       "      <td>Female</td>\n",
       "      <td>37</td>\n",
       "      <td>8</td>\n",
       "      <td>0.00</td>\n",
       "      <td>2</td>\n",
       "      <td>1</td>\n",
       "      <td>0</td>\n",
       "      <td>20968.88</td>\n",
       "      <td>0</td>\n",
       "    </tr>\n",
       "    <tr>\n",
       "      <th>7711</th>\n",
       "      <td>7712</td>\n",
       "      <td>15763029</td>\n",
       "      <td>Ch'iu</td>\n",
       "      <td>612</td>\n",
       "      <td>Germany</td>\n",
       "      <td>Male</td>\n",
       "      <td>46</td>\n",
       "      <td>9</td>\n",
       "      <td>161450.03</td>\n",
       "      <td>1</td>\n",
       "      <td>1</td>\n",
       "      <td>1</td>\n",
       "      <td>96961.00</td>\n",
       "      <td>1</td>\n",
       "    </tr>\n",
       "    <tr>\n",
       "      <th>4339</th>\n",
       "      <td>4340</td>\n",
       "      <td>15605293</td>\n",
       "      <td>McKay</td>\n",
       "      <td>559</td>\n",
       "      <td>France</td>\n",
       "      <td>Female</td>\n",
       "      <td>43</td>\n",
       "      <td>1</td>\n",
       "      <td>0.00</td>\n",
       "      <td>2</td>\n",
       "      <td>1</td>\n",
       "      <td>1</td>\n",
       "      <td>196645.87</td>\n",
       "      <td>0</td>\n",
       "    </tr>\n",
       "    <tr>\n",
       "      <th>9713</th>\n",
       "      <td>9714</td>\n",
       "      <td>15623566</td>\n",
       "      <td>Barnhill</td>\n",
       "      <td>714</td>\n",
       "      <td>France</td>\n",
       "      <td>Male</td>\n",
       "      <td>40</td>\n",
       "      <td>9</td>\n",
       "      <td>46520.69</td>\n",
       "      <td>1</td>\n",
       "      <td>1</td>\n",
       "      <td>1</td>\n",
       "      <td>96687.25</td>\n",
       "      <td>0</td>\n",
       "    </tr>\n",
       "    <tr>\n",
       "      <th>7894</th>\n",
       "      <td>7895</td>\n",
       "      <td>15718281</td>\n",
       "      <td>Muir</td>\n",
       "      <td>706</td>\n",
       "      <td>Germany</td>\n",
       "      <td>Male</td>\n",
       "      <td>67</td>\n",
       "      <td>1</td>\n",
       "      <td>123276.69</td>\n",
       "      <td>2</td>\n",
       "      <td>1</td>\n",
       "      <td>1</td>\n",
       "      <td>86507.88</td>\n",
       "      <td>1</td>\n",
       "    </tr>\n",
       "  </tbody>\n",
       "</table>\n",
       "</div>"
      ],
      "text/plain": [
       "      RowNumber  CustomerId   Surname  CreditScore Geography  Gender  Age  \\\n",
       "2228       2229    15610594      Moss          644    France  Female   37   \n",
       "7711       7712    15763029     Ch'iu          612   Germany    Male   46   \n",
       "4339       4340    15605293     McKay          559    France  Female   43   \n",
       "9713       9714    15623566  Barnhill          714    France    Male   40   \n",
       "7894       7895    15718281      Muir          706   Germany    Male   67   \n",
       "\n",
       "      Tenure    Balance  NumOfProducts  HasCrCard  IsActiveMember  \\\n",
       "2228       8       0.00              2          1               0   \n",
       "7711       9  161450.03              1          1               1   \n",
       "4339       1       0.00              2          1               1   \n",
       "9713       9   46520.69              1          1               1   \n",
       "7894       1  123276.69              2          1               1   \n",
       "\n",
       "      EstimatedSalary  Exited  \n",
       "2228         20968.88       0  \n",
       "7711         96961.00       1  \n",
       "4339        196645.87       0  \n",
       "9713         96687.25       0  \n",
       "7894         86507.88       1  "
      ]
     },
     "execution_count": 2,
     "metadata": {},
     "output_type": "execute_result"
    }
   ],
   "source": [
    "df=pd.read_csv('Bank_churn_Modelling_data.csv')\n",
    "df.sample(5)"
   ]
  },
  {
   "cell_type": "markdown",
   "metadata": {},
   "source": [
    "#### -> Finding shape of Data Sets and analysis the columns"
   ]
  },
  {
   "cell_type": "code",
   "execution_count": 3,
   "metadata": {},
   "outputs": [
    {
     "data": {
      "text/plain": [
       "(10000, 14)"
      ]
     },
     "execution_count": 3,
     "metadata": {},
     "output_type": "execute_result"
    }
   ],
   "source": [
    "df.shape"
   ]
  },
  {
   "cell_type": "code",
   "execution_count": 4,
   "metadata": {},
   "outputs": [
    {
     "data": {
      "text/plain": [
       "Index(['RowNumber', 'CustomerId', 'Surname', 'CreditScore', 'Geography',\n",
       "       'Gender', 'Age', 'Tenure', 'Balance', 'NumOfProducts', 'HasCrCard',\n",
       "       'IsActiveMember', 'EstimatedSalary', 'Exited'],\n",
       "      dtype='object')"
      ]
     },
     "execution_count": 4,
     "metadata": {},
     "output_type": "execute_result"
    }
   ],
   "source": [
    "df.columns"
   ]
  },
  {
   "cell_type": "markdown",
   "metadata": {},
   "source": [
    "#### -> Dropping Row Number, Customer Id and Surname as they are not useful"
   ]
  },
  {
   "cell_type": "code",
   "execution_count": 5,
   "metadata": {},
   "outputs": [
    {
     "data": {
      "text/plain": [
       "Index(['CreditScore', 'Geography', 'Gender', 'Age', 'Tenure', 'Balance',\n",
       "       'NumOfProducts', 'HasCrCard', 'IsActiveMember', 'EstimatedSalary',\n",
       "       'Exited'],\n",
       "      dtype='object')"
      ]
     },
     "execution_count": 5,
     "metadata": {},
     "output_type": "execute_result"
    }
   ],
   "source": [
    "df.drop(['RowNumber','CustomerId','Surname'],axis='columns',inplace=True)\n",
    "df.columns"
   ]
  },
  {
   "cell_type": "markdown",
   "metadata": {},
   "source": [
    "#### -> visualizing data types"
   ]
  },
  {
   "cell_type": "code",
   "execution_count": 6,
   "metadata": {},
   "outputs": [
    {
     "data": {
      "text/plain": [
       "CreditScore          int64\n",
       "Geography           object\n",
       "Gender              object\n",
       "Age                  int64\n",
       "Tenure               int64\n",
       "Balance            float64\n",
       "NumOfProducts        int64\n",
       "HasCrCard            int64\n",
       "IsActiveMember       int64\n",
       "EstimatedSalary    float64\n",
       "Exited               int64\n",
       "dtype: object"
      ]
     },
     "execution_count": 6,
     "metadata": {},
     "output_type": "execute_result"
    }
   ],
   "source": [
    "df.dtypes"
   ]
  },
  {
   "cell_type": "markdown",
   "metadata": {},
   "source": [
    "#### -> Unique values in Geography"
   ]
  },
  {
   "cell_type": "code",
   "execution_count": 7,
   "metadata": {},
   "outputs": [
    {
     "data": {
      "text/plain": [
       "array(['France', 'Spain', 'Germany'], dtype=object)"
      ]
     },
     "execution_count": 7,
     "metadata": {},
     "output_type": "execute_result"
    }
   ],
   "source": [
    "df.Geography.unique()"
   ]
  },
  {
   "cell_type": "markdown",
   "metadata": {},
   "source": [
    "#### -> One hot Vector encoding for geography as there are 3 unique values and storing in other data frames"
   ]
  },
  {
   "cell_type": "code",
   "execution_count": 8,
   "metadata": {},
   "outputs": [
    {
     "data": {
      "text/html": [
       "<div>\n",
       "<style scoped>\n",
       "    .dataframe tbody tr th:only-of-type {\n",
       "        vertical-align: middle;\n",
       "    }\n",
       "\n",
       "    .dataframe tbody tr th {\n",
       "        vertical-align: top;\n",
       "    }\n",
       "\n",
       "    .dataframe thead th {\n",
       "        text-align: right;\n",
       "    }\n",
       "</style>\n",
       "<table border=\"1\" class=\"dataframe\">\n",
       "  <thead>\n",
       "    <tr style=\"text-align: right;\">\n",
       "      <th></th>\n",
       "      <th>CreditScore</th>\n",
       "      <th>Gender</th>\n",
       "      <th>Age</th>\n",
       "      <th>Tenure</th>\n",
       "      <th>Balance</th>\n",
       "      <th>NumOfProducts</th>\n",
       "      <th>HasCrCard</th>\n",
       "      <th>IsActiveMember</th>\n",
       "      <th>EstimatedSalary</th>\n",
       "      <th>Exited</th>\n",
       "      <th>Geography_France</th>\n",
       "      <th>Geography_Germany</th>\n",
       "      <th>Geography_Spain</th>\n",
       "    </tr>\n",
       "  </thead>\n",
       "  <tbody>\n",
       "    <tr>\n",
       "      <th>0</th>\n",
       "      <td>619</td>\n",
       "      <td>Female</td>\n",
       "      <td>42</td>\n",
       "      <td>2</td>\n",
       "      <td>0.00</td>\n",
       "      <td>1</td>\n",
       "      <td>1</td>\n",
       "      <td>1</td>\n",
       "      <td>101348.88</td>\n",
       "      <td>1</td>\n",
       "      <td>1</td>\n",
       "      <td>0</td>\n",
       "      <td>0</td>\n",
       "    </tr>\n",
       "    <tr>\n",
       "      <th>1</th>\n",
       "      <td>608</td>\n",
       "      <td>Female</td>\n",
       "      <td>41</td>\n",
       "      <td>1</td>\n",
       "      <td>83807.86</td>\n",
       "      <td>1</td>\n",
       "      <td>0</td>\n",
       "      <td>1</td>\n",
       "      <td>112542.58</td>\n",
       "      <td>0</td>\n",
       "      <td>0</td>\n",
       "      <td>0</td>\n",
       "      <td>1</td>\n",
       "    </tr>\n",
       "    <tr>\n",
       "      <th>2</th>\n",
       "      <td>502</td>\n",
       "      <td>Female</td>\n",
       "      <td>42</td>\n",
       "      <td>8</td>\n",
       "      <td>159660.80</td>\n",
       "      <td>3</td>\n",
       "      <td>1</td>\n",
       "      <td>0</td>\n",
       "      <td>113931.57</td>\n",
       "      <td>1</td>\n",
       "      <td>1</td>\n",
       "      <td>0</td>\n",
       "      <td>0</td>\n",
       "    </tr>\n",
       "    <tr>\n",
       "      <th>3</th>\n",
       "      <td>699</td>\n",
       "      <td>Female</td>\n",
       "      <td>39</td>\n",
       "      <td>1</td>\n",
       "      <td>0.00</td>\n",
       "      <td>2</td>\n",
       "      <td>0</td>\n",
       "      <td>0</td>\n",
       "      <td>93826.63</td>\n",
       "      <td>0</td>\n",
       "      <td>1</td>\n",
       "      <td>0</td>\n",
       "      <td>0</td>\n",
       "    </tr>\n",
       "    <tr>\n",
       "      <th>4</th>\n",
       "      <td>850</td>\n",
       "      <td>Female</td>\n",
       "      <td>43</td>\n",
       "      <td>2</td>\n",
       "      <td>125510.82</td>\n",
       "      <td>1</td>\n",
       "      <td>1</td>\n",
       "      <td>1</td>\n",
       "      <td>79084.10</td>\n",
       "      <td>0</td>\n",
       "      <td>0</td>\n",
       "      <td>0</td>\n",
       "      <td>1</td>\n",
       "    </tr>\n",
       "    <tr>\n",
       "      <th>...</th>\n",
       "      <td>...</td>\n",
       "      <td>...</td>\n",
       "      <td>...</td>\n",
       "      <td>...</td>\n",
       "      <td>...</td>\n",
       "      <td>...</td>\n",
       "      <td>...</td>\n",
       "      <td>...</td>\n",
       "      <td>...</td>\n",
       "      <td>...</td>\n",
       "      <td>...</td>\n",
       "      <td>...</td>\n",
       "      <td>...</td>\n",
       "    </tr>\n",
       "    <tr>\n",
       "      <th>9995</th>\n",
       "      <td>771</td>\n",
       "      <td>Male</td>\n",
       "      <td>39</td>\n",
       "      <td>5</td>\n",
       "      <td>0.00</td>\n",
       "      <td>2</td>\n",
       "      <td>1</td>\n",
       "      <td>0</td>\n",
       "      <td>96270.64</td>\n",
       "      <td>0</td>\n",
       "      <td>1</td>\n",
       "      <td>0</td>\n",
       "      <td>0</td>\n",
       "    </tr>\n",
       "    <tr>\n",
       "      <th>9996</th>\n",
       "      <td>516</td>\n",
       "      <td>Male</td>\n",
       "      <td>35</td>\n",
       "      <td>10</td>\n",
       "      <td>57369.61</td>\n",
       "      <td>1</td>\n",
       "      <td>1</td>\n",
       "      <td>1</td>\n",
       "      <td>101699.77</td>\n",
       "      <td>0</td>\n",
       "      <td>1</td>\n",
       "      <td>0</td>\n",
       "      <td>0</td>\n",
       "    </tr>\n",
       "    <tr>\n",
       "      <th>9997</th>\n",
       "      <td>709</td>\n",
       "      <td>Female</td>\n",
       "      <td>36</td>\n",
       "      <td>7</td>\n",
       "      <td>0.00</td>\n",
       "      <td>1</td>\n",
       "      <td>0</td>\n",
       "      <td>1</td>\n",
       "      <td>42085.58</td>\n",
       "      <td>1</td>\n",
       "      <td>1</td>\n",
       "      <td>0</td>\n",
       "      <td>0</td>\n",
       "    </tr>\n",
       "    <tr>\n",
       "      <th>9998</th>\n",
       "      <td>772</td>\n",
       "      <td>Male</td>\n",
       "      <td>42</td>\n",
       "      <td>3</td>\n",
       "      <td>75075.31</td>\n",
       "      <td>2</td>\n",
       "      <td>1</td>\n",
       "      <td>0</td>\n",
       "      <td>92888.52</td>\n",
       "      <td>1</td>\n",
       "      <td>0</td>\n",
       "      <td>1</td>\n",
       "      <td>0</td>\n",
       "    </tr>\n",
       "    <tr>\n",
       "      <th>9999</th>\n",
       "      <td>792</td>\n",
       "      <td>Female</td>\n",
       "      <td>28</td>\n",
       "      <td>4</td>\n",
       "      <td>130142.79</td>\n",
       "      <td>1</td>\n",
       "      <td>1</td>\n",
       "      <td>0</td>\n",
       "      <td>38190.78</td>\n",
       "      <td>0</td>\n",
       "      <td>1</td>\n",
       "      <td>0</td>\n",
       "      <td>0</td>\n",
       "    </tr>\n",
       "  </tbody>\n",
       "</table>\n",
       "<p>10000 rows × 13 columns</p>\n",
       "</div>"
      ],
      "text/plain": [
       "      CreditScore  Gender  Age  Tenure    Balance  NumOfProducts  HasCrCard  \\\n",
       "0             619  Female   42       2       0.00              1          1   \n",
       "1             608  Female   41       1   83807.86              1          0   \n",
       "2             502  Female   42       8  159660.80              3          1   \n",
       "3             699  Female   39       1       0.00              2          0   \n",
       "4             850  Female   43       2  125510.82              1          1   \n",
       "...           ...     ...  ...     ...        ...            ...        ...   \n",
       "9995          771    Male   39       5       0.00              2          1   \n",
       "9996          516    Male   35      10   57369.61              1          1   \n",
       "9997          709  Female   36       7       0.00              1          0   \n",
       "9998          772    Male   42       3   75075.31              2          1   \n",
       "9999          792  Female   28       4  130142.79              1          1   \n",
       "\n",
       "      IsActiveMember  EstimatedSalary  Exited  Geography_France  \\\n",
       "0                  1        101348.88       1                 1   \n",
       "1                  1        112542.58       0                 0   \n",
       "2                  0        113931.57       1                 1   \n",
       "3                  0         93826.63       0                 1   \n",
       "4                  1         79084.10       0                 0   \n",
       "...              ...              ...     ...               ...   \n",
       "9995               0         96270.64       0                 1   \n",
       "9996               1        101699.77       0                 1   \n",
       "9997               1         42085.58       1                 1   \n",
       "9998               0         92888.52       1                 0   \n",
       "9999               0         38190.78       0                 1   \n",
       "\n",
       "      Geography_Germany  Geography_Spain  \n",
       "0                     0                0  \n",
       "1                     0                1  \n",
       "2                     0                0  \n",
       "3                     0                0  \n",
       "4                     0                1  \n",
       "...                 ...              ...  \n",
       "9995                  0                0  \n",
       "9996                  0                0  \n",
       "9997                  0                0  \n",
       "9998                  1                0  \n",
       "9999                  0                0  \n",
       "\n",
       "[10000 rows x 13 columns]"
      ]
     },
     "execution_count": 8,
     "metadata": {},
     "output_type": "execute_result"
    }
   ],
   "source": [
    "df1=pd.get_dummies(data=df,columns=['Geography'])\n",
    "df1"
   ]
  },
  {
   "cell_type": "markdown",
   "metadata": {},
   "source": [
    "#### -> Replacing Gender for binary"
   ]
  },
  {
   "cell_type": "code",
   "execution_count": 9,
   "metadata": {},
   "outputs": [
    {
     "data": {
      "text/plain": [
       "0       1\n",
       "1       1\n",
       "2       1\n",
       "3       1\n",
       "4       1\n",
       "       ..\n",
       "9995    0\n",
       "9996    0\n",
       "9997    1\n",
       "9998    0\n",
       "9999    1\n",
       "Name: Gender, Length: 10000, dtype: int64"
      ]
     },
     "execution_count": 9,
     "metadata": {},
     "output_type": "execute_result"
    }
   ],
   "source": [
    "df1['Gender'].replace({'Male':0, 'Female':1},inplace=True)\n",
    "df1.Gender"
   ]
  },
  {
   "cell_type": "markdown",
   "metadata": {},
   "source": [
    "#### -> Creating variable for columns which need to be scaled from 0 to 1 "
   ]
  },
  {
   "cell_type": "code",
   "execution_count": 10,
   "metadata": {},
   "outputs": [],
   "source": [
    "columns=['CreditScore','Age','Tenure','Balance','NumOfProducts','EstimatedSalary']"
   ]
  },
  {
   "cell_type": "code",
   "execution_count": 11,
   "metadata": {},
   "outputs": [],
   "source": [
    "from sklearn import preprocessing\n",
    "scale=preprocessing.MinMaxScaler()\n",
    "\n",
    "df1[columns]=scale.fit_transform(df1[columns])"
   ]
  },
  {
   "cell_type": "code",
   "execution_count": 12,
   "metadata": {},
   "outputs": [
    {
     "name": "stdout",
     "output_type": "stream",
     "text": [
      "[0.538 0.516 0.304 0.698 1.    0.59  0.944 0.052 0.302 0.668 0.356 0.294\n",
      " 0.252 0.398 0.57  0.532 0.606 0.474 0.752 0.764 0.572 0.32  0.638 0.992\n",
      " 0.454 0.812 0.442 0.448 0.122 0.482 0.366 0.406 0.34  0.744 0.25  0.28\n",
      " 0.908 0.464 0.244 0.23  0.412 0.968 0.62  0.852 0.958 0.574 0.4   0.696\n",
      " 0.47  0.876 0.61  0.502 0.612 0.75  0.322 0.528 0.784 0.674 0.41  0.506\n",
      " 0.802 0.462 0.77  0.622 0.65  0.776 0.926 0.614 0.508 0.338 0.628 0.656\n",
      " 0.814 0.132 0.63  0.854 0.386 0.312 0.286 0.604 0.8   0.758 0.592 0.594\n",
      " 0.916 0.348 0.838 0.76  0.33  0.846 0.928 0.72  0.126 0.546 0.64  0.544\n",
      " 0.87  0.51  0.258 0.67  0.376 0.424 0.742 0.556 0.636 0.956 0.648 0.55\n",
      " 0.164 0.84  0.816 0.89  0.672 0.878 0.478 0.222 0.468 0.458 0.626 0.664\n",
      " 0.886 0.682 0.27  0.6   0.808 0.37  0.732 0.378 0.712 0.472 0.562 0.734\n",
      " 0.9   0.666 0.708 0.53  0.634 0.268 0.26  0.456 0.324 0.512 0.494 0.856\n",
      " 0.328 0.35  0.73  0.46  0.914 0.342 0.818 0.332 0.722 0.536 0.586 0.642\n",
      " 0.678 0.54  0.652 0.444 0.69  0.484 0.434 0.688 0.394 0.488 0.646 0.52\n",
      " 0.834 0.826 0.724 0.706 0.624 0.618 0.346 0.844 0.39  0.568 0.778 0.842\n",
      " 0.662 0.388 0.692 0.832 0.754 0.686 0.414 0.362 0.296 0.602 0.882 0.766\n",
      " 0.922 0.714 0.728 0.864 0.85  0.898 0.504 0.788 0.476 0.794 0.466 0.554\n",
      " 0.762 0.558 0.176 0.584 0.912 0.248 0.418 0.158 0.66  0.798 0.768 0.588\n",
      " 0.552 0.598 0.91  0.736 0.98  0.56  0.608 0.824 0.436 0.526 0.344 0.774\n",
      " 0.596 0.186 0.58  0.38  0.22  0.486 0.902 0.522 0.904 0.79  0.266 0.68\n",
      " 0.284 0.718 0.71  0.42  0.804 0.702 0.374 0.274 0.492 0.704 0.272 0.748\n",
      " 0.396 0.228 0.88  0.368 0.796 0.288 0.48  0.236 0.318 0.936 0.932 0.372\n",
      " 0.806 0.848 0.542 0.438 0.616 0.896 0.582 0.384 0.684 0.578 0.83  0.44\n",
      " 0.576 0.498 0.564 0.858 0.354 0.428 0.966 0.308 0.984 0.316 0.134 0.496\n",
      " 0.782 0.514 0.822 0.996 0.392 0.178 0.81  0.82  0.352 0.726 0.7   0.632\n",
      " 0.432 0.29  0.676 0.524 0.254 0.154 0.978 0.938 0.74  0.218 0.306 0.548\n",
      " 0.358 0.426 0.264 0.892 0.19  0.792 0.872 0.408 0.644 0.874 0.298 0.988\n",
      " 0.2   0.93  0.976 0.906 0.772 0.566 0.5   0.658 0.334 0.884 0.786 0.276\n",
      " 0.142 0.982 0.716 0.314 0.31  0.212 0.17  0.422 0.336 0.43  0.756 0.868\n",
      " 0.404 0.518 0.828 0.694 0.746 0.402 0.188 0.738 0.292 0.382 0.96  0.924\n",
      " 0.654 0.14  0.49  0.534 0.918 0.3   0.952 0.168 0.326 0.256 0.894 0.026\n",
      " 0.098 0.226 0.86  0.204 0.45  0.974 0.888 0.948 0.156 0.946 0.862 0.998\n",
      " 0.278 0.162 0.214 0.836 0.962 0.018 0.94  0.446 0.452 0.416 0.934 0.198\n",
      " 0.18  0.13  0.942 0.36  0.    0.192 0.15  0.78  0.262 0.866 0.016 0.99\n",
      " 0.202 0.216 0.238 0.146 0.108 0.972 0.246 0.97  0.232 0.282 0.002 0.954\n",
      " 0.986 0.03  0.364 0.128 0.206 0.242 0.102 0.92  0.964 0.24  0.194 0.144\n",
      " 0.95  0.16  0.172 0.152 0.116 0.994 0.136 0.174 0.12  0.208 0.114 0.21\n",
      " 0.224 0.072 0.11  0.066 0.09  0.234 0.166 0.184 0.148 0.196 0.182 0.034\n",
      " 0.124 0.064 0.046 0.138]\n",
      "[1 0]\n",
      "[0.32432432 0.31081081 0.28378378 0.33783784 0.35135135 0.43243243\n",
      " 0.14864865 0.12162162 0.17567568 0.08108108 0.21621622 0.09459459\n",
      " 0.22972973 0.36486486 0.54054054 0.18918919 0.27027027 0.37837838\n",
      " 0.24324324 0.2027027  0.2972973  0.44594595 0.58108108 0.41891892\n",
      " 0.25675676 0.01351351 0.64864865 0.51351351 0.10810811 0.04054054\n",
      " 0.5        0.77027027 0.05405405 0.16216216 0.13513514 0.63513514\n",
      " 0.40540541 0.45945946 0.52702703 0.74324324 0.39189189 0.48648649\n",
      " 0.72972973 0.02702703 0.66216216 0.82432432 0.59459459 0.47297297\n",
      " 0.83783784 0.55405405 0.67567568 0.06756757 0.56756757 0.7027027\n",
      " 0.60810811 0.62162162 0.         0.86486486 0.68918919 0.75675676\n",
      " 0.71621622 0.78378378 0.7972973  0.94594595 0.90540541 0.89189189\n",
      " 0.81081081 0.85135135 1.         0.87837838]\n",
      "[0.2 0.1 0.8 0.7 0.4 0.6 0.3 1.  0.5 0.9 0. ]\n",
      "[0.         0.33403148 0.63635718 ... 0.22865702 0.29922631 0.51870777]\n",
      "[0.         0.66666667 0.33333333 1.        ]\n",
      "[1 0]\n",
      "[1 0]\n",
      "[0.50673489 0.56270874 0.56965435 ... 0.21039009 0.46442905 0.19091423]\n",
      "[1 0]\n",
      "[1 0]\n",
      "[0 1]\n",
      "[0 1]\n"
     ]
    }
   ],
   "source": [
    "for col in df1:\n",
    "    print(df1[col].unique())"
   ]
  },
  {
   "cell_type": "code",
   "execution_count": 13,
   "metadata": {},
   "outputs": [
    {
     "data": {
      "text/plain": [
       "Index(['CreditScore', 'Gender', 'Age', 'Tenure', 'Balance', 'NumOfProducts',\n",
       "       'HasCrCard', 'IsActiveMember', 'EstimatedSalary', 'Exited',\n",
       "       'Geography_France', 'Geography_Germany', 'Geography_Spain'],\n",
       "      dtype='object')"
      ]
     },
     "execution_count": 13,
     "metadata": {},
     "output_type": "execute_result"
    }
   ],
   "source": [
    "df1.columns"
   ]
  },
  {
   "cell_type": "markdown",
   "metadata": {},
   "source": [
    "#### -> Splitting data into input and output"
   ]
  },
  {
   "cell_type": "code",
   "execution_count": 14,
   "metadata": {},
   "outputs": [],
   "source": [
    "x=df1.drop(['Exited'], axis='columns')\n",
    "y=df['Exited']"
   ]
  },
  {
   "cell_type": "markdown",
   "metadata": {},
   "source": [
    "#### -> Splitting data into train and test"
   ]
  },
  {
   "cell_type": "code",
   "execution_count": 15,
   "metadata": {},
   "outputs": [],
   "source": [
    "from sklearn.model_selection import train_test_split\n",
    "x_train, x_test, y_train, y_test = train_test_split(x,y,test_size=0.2,random_state=5)"
   ]
  },
  {
   "cell_type": "code",
   "execution_count": 16,
   "metadata": {},
   "outputs": [
    {
     "data": {
      "text/plain": [
       "(12,)"
      ]
     },
     "execution_count": 16,
     "metadata": {},
     "output_type": "execute_result"
    }
   ],
   "source": [
    "x.columns.shape"
   ]
  },
  {
   "cell_type": "code",
   "execution_count": 17,
   "metadata": {},
   "outputs": [
    {
     "data": {
      "text/plain": [
       "0    1595\n",
       "1     405\n",
       "Name: Exited, dtype: int64"
      ]
     },
     "execution_count": 17,
     "metadata": {},
     "output_type": "execute_result"
    }
   ],
   "source": [
    "y_test.value_counts()  # Imbalanced data Sets"
   ]
  },
  {
   "cell_type": "markdown",
   "metadata": {},
   "source": [
    "#### -> Building artificial Neural network for given Problem and fitting the Test data"
   ]
  },
  {
   "cell_type": "code",
   "execution_count": 18,
   "metadata": {},
   "outputs": [
    {
     "name": "stdout",
     "output_type": "stream",
     "text": [
      "Epoch 1/50\n",
      "250/250 [==============================] - 0s 844us/step - loss: 0.5581 - accuracy: 0.7780\n",
      "Epoch 2/50\n",
      "250/250 [==============================] - 0s 885us/step - loss: 0.4937 - accuracy: 0.7960\n",
      "Epoch 3/50\n",
      "250/250 [==============================] - 0s 776us/step - loss: 0.4721 - accuracy: 0.8005\n",
      "Epoch 4/50\n",
      "250/250 [==============================] - 0s 774us/step - loss: 0.4565 - accuracy: 0.8041\n",
      "Epoch 5/50\n",
      "250/250 [==============================] - 0s 792us/step - loss: 0.4476 - accuracy: 0.8092\n",
      "Epoch 6/50\n",
      "250/250 [==============================] - 0s 798us/step - loss: 0.4405 - accuracy: 0.8127\n",
      "Epoch 7/50\n",
      "250/250 [==============================] - 0s 806us/step - loss: 0.4356 - accuracy: 0.8156\n",
      "Epoch 8/50\n",
      "250/250 [==============================] - 0s 785us/step - loss: 0.4314 - accuracy: 0.8160\n",
      "Epoch 9/50\n",
      "250/250 [==============================] - 0s 766us/step - loss: 0.4269 - accuracy: 0.8165\n",
      "Epoch 10/50\n",
      "250/250 [==============================] - 0s 778us/step - loss: 0.4221 - accuracy: 0.8186\n",
      "Epoch 11/50\n",
      "250/250 [==============================] - 0s 772us/step - loss: 0.4182 - accuracy: 0.8216\n",
      "Epoch 12/50\n",
      "250/250 [==============================] - 0s 832us/step - loss: 0.4123 - accuracy: 0.8254\n",
      "Epoch 13/50\n",
      "250/250 [==============================] - 0s 788us/step - loss: 0.4085 - accuracy: 0.8255\n",
      "Epoch 14/50\n",
      "250/250 [==============================] - 0s 806us/step - loss: 0.4049 - accuracy: 0.8280\n",
      "Epoch 15/50\n",
      "250/250 [==============================] - 0s 802us/step - loss: 0.4002 - accuracy: 0.8301\n",
      "Epoch 16/50\n",
      "250/250 [==============================] - 0s 779us/step - loss: 0.3964 - accuracy: 0.8331\n",
      "Epoch 17/50\n",
      "250/250 [==============================] - 0s 783us/step - loss: 0.3928 - accuracy: 0.8334\n",
      "Epoch 18/50\n",
      "250/250 [==============================] - 0s 832us/step - loss: 0.3882 - accuracy: 0.8372\n",
      "Epoch 19/50\n",
      "250/250 [==============================] - 0s 770us/step - loss: 0.3848 - accuracy: 0.8385\n",
      "Epoch 20/50\n",
      "250/250 [==============================] - 0s 806us/step - loss: 0.3810 - accuracy: 0.8406\n",
      "Epoch 21/50\n",
      "250/250 [==============================] - 0s 786us/step - loss: 0.3768 - accuracy: 0.8438\n",
      "Epoch 22/50\n",
      "250/250 [==============================] - 0s 845us/step - loss: 0.3733 - accuracy: 0.8456\n",
      "Epoch 23/50\n",
      "250/250 [==============================] - 0s 787us/step - loss: 0.3708 - accuracy: 0.8451\n",
      "Epoch 24/50\n",
      "250/250 [==============================] - 0s 802us/step - loss: 0.3677 - accuracy: 0.8495\n",
      "Epoch 25/50\n",
      "250/250 [==============================] - 0s 794us/step - loss: 0.3637 - accuracy: 0.8480\n",
      "Epoch 26/50\n",
      "250/250 [==============================] - 0s 1ms/step - loss: 0.3627 - accuracy: 0.8501\n",
      "Epoch 27/50\n",
      "250/250 [==============================] - 0s 930us/step - loss: 0.3597 - accuracy: 0.8524\n",
      "Epoch 28/50\n",
      "250/250 [==============================] - 0s 836us/step - loss: 0.3568 - accuracy: 0.8536\n",
      "Epoch 29/50\n",
      "250/250 [==============================] - 0s 790us/step - loss: 0.3540 - accuracy: 0.8550\n",
      "Epoch 30/50\n",
      "250/250 [==============================] - 0s 782us/step - loss: 0.3519 - accuracy: 0.8554\n",
      "Epoch 31/50\n",
      "250/250 [==============================] - 0s 799us/step - loss: 0.3523 - accuracy: 0.8550\n",
      "Epoch 32/50\n",
      "250/250 [==============================] - 0s 832us/step - loss: 0.3508 - accuracy: 0.8540\n",
      "Epoch 33/50\n",
      "250/250 [==============================] - 0s 791us/step - loss: 0.3476 - accuracy: 0.8585\n",
      "Epoch 34/50\n",
      "250/250 [==============================] - 0s 832us/step - loss: 0.3464 - accuracy: 0.8579\n",
      "Epoch 35/50\n",
      "250/250 [==============================] - 0s 783us/step - loss: 0.3447 - accuracy: 0.8589\n",
      "Epoch 36/50\n",
      "250/250 [==============================] - 0s 788us/step - loss: 0.3439 - accuracy: 0.8590\n",
      "Epoch 37/50\n",
      "250/250 [==============================] - 0s 794us/step - loss: 0.3424 - accuracy: 0.8591\n",
      "Epoch 38/50\n",
      "250/250 [==============================] - 0s 806us/step - loss: 0.3418 - accuracy: 0.8618\n",
      "Epoch 39/50\n",
      "250/250 [==============================] - 0s 786us/step - loss: 0.3401 - accuracy: 0.8605\n",
      "Epoch 40/50\n",
      "250/250 [==============================] - 0s 850us/step - loss: 0.3391 - accuracy: 0.8627\n",
      "Epoch 41/50\n",
      "250/250 [==============================] - 0s 778us/step - loss: 0.3395 - accuracy: 0.8606\n",
      "Epoch 42/50\n",
      "250/250 [==============================] - 0s 890us/step - loss: 0.3390 - accuracy: 0.8609\n",
      "Epoch 43/50\n",
      "250/250 [==============================] - 0s 785us/step - loss: 0.3378 - accuracy: 0.8618\n",
      "Epoch 44/50\n",
      "250/250 [==============================] - 0s 1ms/step - loss: 0.3365 - accuracy: 0.8630\n",
      "Epoch 45/50\n",
      "250/250 [==============================] - 0s 1ms/step - loss: 0.3356 - accuracy: 0.8640\n",
      "Epoch 46/50\n",
      "250/250 [==============================] - 0s 1ms/step - loss: 0.3356 - accuracy: 0.8619\n",
      "Epoch 47/50\n",
      "250/250 [==============================] - 0s 1ms/step - loss: 0.3362 - accuracy: 0.8636\n",
      "Epoch 48/50\n",
      "250/250 [==============================] - 0s 1ms/step - loss: 0.3344 - accuracy: 0.8621\n",
      "Epoch 49/50\n",
      "250/250 [==============================] - 0s 1ms/step - loss: 0.3334 - accuracy: 0.8643\n",
      "Epoch 50/50\n",
      "250/250 [==============================] - 0s 1ms/step - loss: 0.3334 - accuracy: 0.8646\n"
     ]
    },
    {
     "data": {
      "text/plain": [
       "<tensorflow.python.keras.callbacks.History at 0x2495b3d3df0>"
      ]
     },
     "execution_count": 18,
     "metadata": {},
     "output_type": "execute_result"
    }
   ],
   "source": [
    "model=keras.Sequential([\n",
    "    keras.layers.Dense(10,input_shape=(12,),activation='relu'),\n",
    "    keras.layers.Dense(6,activation='relu'),\n",
    "    keras.layers.Dense(1, activation='sigmoid')\n",
    "])\n",
    "\n",
    "model.compile(optimizer='adam',\n",
    "              loss='binary_crossentropy',\n",
    "              metrics=['accuracy'])\n",
    "\n",
    "model.fit(x_train,y_train,epochs=50)"
   ]
  },
  {
   "cell_type": "code",
   "execution_count": 19,
   "metadata": {},
   "outputs": [
    {
     "name": "stdout",
     "output_type": "stream",
     "text": [
      "63/63 [==============================] - 0s 978us/step - loss: 0.3469 - accuracy: 0.8560\n"
     ]
    },
    {
     "data": {
      "text/plain": [
       "[0.34693443775177, 0.8560000061988831]"
      ]
     },
     "execution_count": 19,
     "metadata": {},
     "output_type": "execute_result"
    }
   ],
   "source": [
    "model.evaluate(x_test,y_test)"
   ]
  },
  {
   "cell_type": "code",
   "execution_count": 20,
   "metadata": {},
   "outputs": [
    {
     "data": {
      "text/plain": [
       "array([[0.05019933],\n",
       "       [0.05787078],\n",
       "       [0.04831111],\n",
       "       [0.0448451 ],\n",
       "       [0.09214553]], dtype=float32)"
      ]
     },
     "execution_count": 20,
     "metadata": {},
     "output_type": "execute_result"
    }
   ],
   "source": [
    "yp=model.predict(x_test)\n",
    "yp[:5]"
   ]
  },
  {
   "cell_type": "markdown",
   "metadata": {},
   "source": [
    "#### -> Doing Hot one vector for predicted values"
   ]
  },
  {
   "cell_type": "code",
   "execution_count": 21,
   "metadata": {},
   "outputs": [
    {
     "data": {
      "text/plain": [
       "[0, 0, 0, 0, 0]"
      ]
     },
     "execution_count": 21,
     "metadata": {},
     "output_type": "execute_result"
    }
   ],
   "source": [
    "yp_s=[]\n",
    "for i in yp:\n",
    "    if(i>=0.5):\n",
    "        yp_s.append(1)\n",
    "    else:\n",
    "        yp_s.append(0)\n",
    "yp_s[:5]        \n",
    "        "
   ]
  },
  {
   "cell_type": "code",
   "execution_count": 22,
   "metadata": {},
   "outputs": [
    {
     "data": {
      "text/plain": [
       "0    1\n",
       "1    0\n",
       "2    1\n",
       "3    0\n",
       "4    0\n",
       "Name: Exited, dtype: int64"
      ]
     },
     "execution_count": 22,
     "metadata": {},
     "output_type": "execute_result"
    }
   ],
   "source": [
    "y[:5]"
   ]
  },
  {
   "cell_type": "markdown",
   "metadata": {},
   "source": [
    "#### -> Calculating required Values and plotting the Confusion Matrix"
   ]
  },
  {
   "cell_type": "code",
   "execution_count": 23,
   "metadata": {},
   "outputs": [
    {
     "name": "stdout",
     "output_type": "stream",
     "text": [
      "              precision    recall  f1-score   support\n",
      "\n",
      "           0       0.88      0.95      0.91      1595\n",
      "           1       0.71      0.50      0.58       405\n",
      "\n",
      "    accuracy                           0.86      2000\n",
      "   macro avg       0.79      0.72      0.75      2000\n",
      "weighted avg       0.85      0.86      0.85      2000\n",
      "\n"
     ]
    }
   ],
   "source": [
    "from sklearn.metrics import confusion_matrix , classification_report\n",
    "\n",
    "print(classification_report(y_test,yp_s))"
   ]
  },
  {
   "cell_type": "code",
   "execution_count": 24,
   "metadata": {},
   "outputs": [
    {
     "data": {
      "text/plain": [
       "Text(69.0, 0.5, 'Y_Truth')"
      ]
     },
     "execution_count": 24,
     "metadata": {},
     "output_type": "execute_result"
    },
    {
     "data": {
      "image/png": "[encoded data removed]",
      "text/plain": [
       "<Figure size 720x504 with 2 Axes>"
      ]
     },
     "metadata": {
      "needs_background": "light"
     },
     "output_type": "display_data"
    }
   ],
   "source": [
    "import seaborn as sn\n",
    "cm=tf.math.confusion_matrix(labels=y_test,predictions=yp_s)\n",
    "plt.figure(figsize=(10,7))\n",
    "sn.heatmap(cm,annot=True, fmt='d')\n",
    "plt.xlabel('Y_prdicted')\n",
    "plt.ylabel('Y_Truth')"
   ]
  },
  {
   "cell_type": "markdown",
   "metadata": {},
   "source": [
    "#### -> As we can see our f1-score is very less for customer churnning. This is happening because of Imbalanced Dataset as below"
   ]
  },
  {
   "cell_type": "code",
   "execution_count": 25,
   "metadata": {},
   "outputs": [
    {
     "data": {
      "text/plain": [
       "0    1595\n",
       "1     405\n",
       "Name: Exited, dtype: int64"
      ]
     },
     "execution_count": 25,
     "metadata": {},
     "output_type": "execute_result"
    }
   ],
   "source": [
    "y_test.value_counts()"
   ]
  },
  {
   "cell_type": "markdown",
   "metadata": {},
   "source": [
    "#### ->We will be handling this Imbalanced Dataset"
   ]
  },
  {
   "cell_type": "code",
   "execution_count": 26,
   "metadata": {},
   "outputs": [],
   "source": [
    "#class count\n",
    "count_0,count_1=df1.Exited.value_counts()\n",
    "\n",
    "df_0=df1[df1.Exited==0] #dividing by class\n",
    "df_1=df1[df1.Exited==1]"
   ]
  },
  {
   "cell_type": "code",
   "execution_count": 27,
   "metadata": {},
   "outputs": [
    {
     "data": {
      "text/plain": [
       "(2037, 13)"
      ]
     },
     "execution_count": 27,
     "metadata": {},
     "output_type": "execute_result"
    }
   ],
   "source": [
    "df_1.shape"
   ]
  },
  {
   "cell_type": "code",
   "execution_count": 28,
   "metadata": {},
   "outputs": [
    {
     "data": {
      "text/plain": [
       "(7963, 13)"
      ]
     },
     "execution_count": 28,
     "metadata": {},
     "output_type": "execute_result"
    }
   ],
   "source": [
    "df_0.shape"
   ]
  },
  {
   "cell_type": "markdown",
   "metadata": {},
   "source": [
    "### -> Now we are going to undersample the df_0 class"
   ]
  },
  {
   "cell_type": "code",
   "execution_count": 29,
   "metadata": {},
   "outputs": [
    {
     "name": "stdout",
     "output_type": "stream",
     "text": [
      "1    2037\n",
      "0    2037\n",
      "Name: Exited, dtype: int64\n"
     ]
    }
   ],
   "source": [
    "df_0_under=df_0.sample(count_1)\n",
    "\n",
    "df_under=pd.concat([df_0_under,df_1],axis=0)\n",
    "print(df_under.Exited.value_counts())"
   ]
  },
  {
   "cell_type": "code",
   "execution_count": 30,
   "metadata": {},
   "outputs": [],
   "source": [
    "x=df_under.drop(['Exited'],axis='columns')\n",
    "y=df_under['Exited']"
   ]
  },
  {
   "cell_type": "code",
   "execution_count": 31,
   "metadata": {},
   "outputs": [],
   "source": [
    "from sklearn.model_selection import train_test_split\n",
    "x_train, x_test, y_train, y_test = train_test_split(x,y,test_size=0.2,random_state=15, stratify=y)"
   ]
  },
  {
   "cell_type": "code",
   "execution_count": 32,
   "metadata": {},
   "outputs": [
    {
     "data": {
      "text/plain": [
       "1    1630\n",
       "0    1629\n",
       "Name: Exited, dtype: int64"
      ]
     },
     "execution_count": 32,
     "metadata": {},
     "output_type": "execute_result"
    }
   ],
   "source": [
    "y_train.value_counts()"
   ]
  },
  {
   "cell_type": "code",
   "execution_count": 33,
   "metadata": {},
   "outputs": [
    {
     "name": "stdout",
     "output_type": "stream",
     "text": [
      "Epoch 1/50\n",
      "102/102 [==============================] - 0s 1ms/step - loss: 0.4722 - accuracy: 0.7674\n",
      "Epoch 2/50\n",
      "102/102 [==============================] - 0s 1ms/step - loss: 0.4588 - accuracy: 0.7831\n",
      "Epoch 3/50\n",
      "102/102 [==============================] - 0s 1ms/step - loss: 0.4569 - accuracy: 0.7852\n",
      "Epoch 4/50\n",
      "102/102 [==============================] - 0s 1ms/step - loss: 0.4565 - accuracy: 0.7864\n",
      "Epoch 5/50\n",
      "102/102 [==============================] - 0s 1ms/step - loss: 0.4535 - accuracy: 0.7867\n",
      "Epoch 6/50\n",
      "102/102 [==============================] - 0s 1ms/step - loss: 0.4560 - accuracy: 0.7886\n",
      "Epoch 7/50\n",
      "102/102 [==============================] - 0s 2ms/step - loss: 0.4537 - accuracy: 0.7849\n",
      "Epoch 8/50\n",
      "102/102 [==============================] - 0s 1ms/step - loss: 0.4531 - accuracy: 0.7849\n",
      "Epoch 9/50\n",
      "102/102 [==============================] - 0s 1ms/step - loss: 0.4524 - accuracy: 0.7877\n",
      "Epoch 10/50\n",
      "102/102 [==============================] - 0s 1ms/step - loss: 0.4517 - accuracy: 0.7883\n",
      "Epoch 11/50\n",
      "102/102 [==============================] - 0s 1ms/step - loss: 0.4514 - accuracy: 0.7861\n",
      "Epoch 12/50\n",
      "102/102 [==============================] - 0s 1ms/step - loss: 0.4526 - accuracy: 0.7871\n",
      "Epoch 13/50\n",
      "102/102 [==============================] - 0s 1ms/step - loss: 0.4517 - accuracy: 0.7843\n",
      "Epoch 14/50\n",
      "102/102 [==============================] - 0s 1ms/step - loss: 0.4516 - accuracy: 0.7840\n",
      "Epoch 15/50\n",
      "102/102 [==============================] - 0s 1ms/step - loss: 0.4521 - accuracy: 0.7886\n",
      "Epoch 16/50\n",
      "102/102 [==============================] - 0s 919us/step - loss: 0.4510 - accuracy: 0.7883\n",
      "Epoch 17/50\n",
      "102/102 [==============================] - 0s 919us/step - loss: 0.4511 - accuracy: 0.7901\n",
      "Epoch 18/50\n",
      "102/102 [==============================] - 0s 1ms/step - loss: 0.4513 - accuracy: 0.7861\n",
      "Epoch 19/50\n",
      "102/102 [==============================] - 0s 1ms/step - loss: 0.4514 - accuracy: 0.7910\n",
      "Epoch 20/50\n",
      "102/102 [==============================] - 0s 1ms/step - loss: 0.4501 - accuracy: 0.7886\n",
      "Epoch 21/50\n",
      "102/102 [==============================] - 0s 1ms/step - loss: 0.4502 - accuracy: 0.7874\n",
      "Epoch 22/50\n",
      "102/102 [==============================] - 0s 1ms/step - loss: 0.4527 - accuracy: 0.7849\n",
      "Epoch 23/50\n",
      "102/102 [==============================] - 0s 2ms/step - loss: 0.4499 - accuracy: 0.7913\n",
      "Epoch 24/50\n",
      "102/102 [==============================] - 0s 1ms/step - loss: 0.4504 - accuracy: 0.7864\n",
      "Epoch 25/50\n",
      "102/102 [==============================] - 0s 1ms/step - loss: 0.4508 - accuracy: 0.7907\n",
      "Epoch 26/50\n",
      "102/102 [==============================] - 0s 1ms/step - loss: 0.4498 - accuracy: 0.7892\n",
      "Epoch 27/50\n",
      "102/102 [==============================] - 0s 1ms/step - loss: 0.4499 - accuracy: 0.7923\n",
      "Epoch 28/50\n",
      "102/102 [==============================] - 0s 1ms/step - loss: 0.4496 - accuracy: 0.7880\n",
      "Epoch 29/50\n",
      "102/102 [==============================] - 0s 1ms/step - loss: 0.4480 - accuracy: 0.7907\n",
      "Epoch 30/50\n",
      "102/102 [==============================] - 0s 1ms/step - loss: 0.4492 - accuracy: 0.7861\n",
      "Epoch 31/50\n",
      "102/102 [==============================] - 0s 1ms/step - loss: 0.4491 - accuracy: 0.7910\n",
      "Epoch 32/50\n",
      "102/102 [==============================] - 0s 1ms/step - loss: 0.4489 - accuracy: 0.7880\n",
      "Epoch 33/50\n",
      "102/102 [==============================] - 0s 1ms/step - loss: 0.4488 - accuracy: 0.7907\n",
      "Epoch 34/50\n",
      "102/102 [==============================] - 0s 1ms/step - loss: 0.4482 - accuracy: 0.7877\n",
      "Epoch 35/50\n",
      "102/102 [==============================] - 0s 1ms/step - loss: 0.4501 - accuracy: 0.7886\n",
      "Epoch 36/50\n",
      "102/102 [==============================] - 0s 1ms/step - loss: 0.4481 - accuracy: 0.7898\n",
      "Epoch 37/50\n",
      "102/102 [==============================] - 0s 1ms/step - loss: 0.4485 - accuracy: 0.7920\n",
      "Epoch 38/50\n",
      "102/102 [==============================] - 0s 1ms/step - loss: 0.4480 - accuracy: 0.7910\n",
      "Epoch 39/50\n",
      "102/102 [==============================] - 0s 1ms/step - loss: 0.4480 - accuracy: 0.7938\n",
      "Epoch 40/50\n",
      "102/102 [==============================] - 0s 1ms/step - loss: 0.4491 - accuracy: 0.7861\n",
      "Epoch 41/50\n",
      "102/102 [==============================] - 0s 1ms/step - loss: 0.4482 - accuracy: 0.7871\n",
      "Epoch 42/50\n",
      "102/102 [==============================] - 0s 1ms/step - loss: 0.4479 - accuracy: 0.7886\n",
      "Epoch 43/50\n",
      "102/102 [==============================] - 0s 1ms/step - loss: 0.4500 - accuracy: 0.7898\n",
      "Epoch 44/50\n",
      "102/102 [==============================] - 0s 1ms/step - loss: 0.4474 - accuracy: 0.7895\n",
      "Epoch 45/50\n",
      "102/102 [==============================] - 0s 1ms/step - loss: 0.4481 - accuracy: 0.7886\n",
      "Epoch 46/50\n",
      "102/102 [==============================] - 0s 1ms/step - loss: 0.4482 - accuracy: 0.7901\n",
      "Epoch 47/50\n",
      "102/102 [==============================] - 0s 1ms/step - loss: 0.4481 - accuracy: 0.7913\n",
      "Epoch 48/50\n",
      "102/102 [==============================] - 0s 1ms/step - loss: 0.4475 - accuracy: 0.7892\n",
      "Epoch 49/50\n",
      "102/102 [==============================] - 0s 1ms/step - loss: 0.4483 - accuracy: 0.7874\n",
      "Epoch 50/50\n",
      "102/102 [==============================] - 0s 1ms/step - loss: 0.4472 - accuracy: 0.7895\n"
     ]
    },
    {
     "data": {
      "text/plain": [
       "<tensorflow.python.keras.callbacks.History at 0x2495ebc4d90>"
      ]
     },
     "execution_count": 33,
     "metadata": {},
     "output_type": "execute_result"
    }
   ],
   "source": [
    "model.fit(x_train,y_train,epochs=50)"
   ]
  },
  {
   "cell_type": "code",
   "execution_count": 34,
   "metadata": {},
   "outputs": [
    {
     "name": "stdout",
     "output_type": "stream",
     "text": [
      "26/26 [==============================] - 0s 882us/step - loss: 0.4653 - accuracy: 0.7521\n"
     ]
    },
    {
     "data": {
      "text/plain": [
       "[0.4652683734893799, 0.7521472573280334]"
      ]
     },
     "execution_count": 34,
     "metadata": {},
     "output_type": "execute_result"
    }
   ],
   "source": [
    "model.evaluate(x_test,y_test)"
   ]
  },
  {
   "cell_type": "code",
   "execution_count": 35,
   "metadata": {},
   "outputs": [],
   "source": [
    "yp1=model.predict(x_test)"
   ]
  },
  {
   "cell_type": "code",
   "execution_count": 36,
   "metadata": {},
   "outputs": [],
   "source": [
    "yp1_s=[]\n",
    "for i in yp1:\n",
    "    if(i>=0.5):\n",
    "        yp1_s.append(1)\n",
    "    else:\n",
    "        yp1_s.append(0)"
   ]
  },
  {
   "cell_type": "code",
   "execution_count": 37,
   "metadata": {},
   "outputs": [
    {
     "name": "stdout",
     "output_type": "stream",
     "text": [
      "              precision    recall  f1-score   support\n",
      "\n",
      "           0       0.74      0.77      0.76       408\n",
      "           1       0.76      0.73      0.75       407\n",
      "\n",
      "    accuracy                           0.75       815\n",
      "   macro avg       0.75      0.75      0.75       815\n",
      "weighted avg       0.75      0.75      0.75       815\n",
      "\n"
     ]
    }
   ],
   "source": [
    "from sklearn.metrics import confusion_matrix , classification_report\n",
    "\n",
    "print(classification_report(y_test,yp1_s))"
   ]
  },
  {
   "cell_type": "markdown",
   "metadata": {},
   "source": [
    "## Now we can see that our Recall has increased for 1 and F1 score is improved"
   ]
  },
  {
   "cell_type": "code",
   "execution_count": null,
   "metadata": {},
   "outputs": [],
   "source": []
  }
 ],
 "metadata": {
  "kernelspec": {
   "display_name": "Python 3",
   "language": "python",
   "name": "python3"
  },
  "language_info": {
   "codemirror_mode": {
    "name": "ipython",
    "version": 3
   },
   "file_extension": ".py",
   "mimetype": "text/x-python",
   "name": "python",
   "nbconvert_exporter": "python",
   "pygments_lexer": "ipython3",
   "version": "3.8.2"
  }
 },
 "nbformat": 4,
 "nbformat_minor": 4
}
